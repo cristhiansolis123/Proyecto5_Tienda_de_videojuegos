{
  "cells": [
    {
      "cell_type": "markdown",
      "metadata": {
        "id": "4WxoBpNLTc1g"
      },
      "source": [
        "# PROYECTO INTEGRADOR"
      ]
    },
    {
      "cell_type": "markdown",
      "metadata": {
        "id": "BCL4gACCTc1g"
      },
      "source": [
        "Trabajas para la tienda online Ice que vende videojuegos por todo el mundo. Las reseñas de usuarios y expertos, los géneros, las plataformas (por ejemplo, Xbox o PlayStation) y los datos históricos sobre las ventas de juegos están disponibles en fuentes abiertas. Tienes que identificar patrones que determinen si un juego tiene éxito o no. Esto te permitirá detectar proyectos prometedores y planificar campañas publicitarias."
      ]
    },
    {
      "cell_type": "markdown",
      "metadata": {
        "id": "6gj18AJRTc1g"
      },
      "source": [
        "Se tienen diferentes datos que recopilan la información de varias plataformas y de los videojuegos sacados a través del tiempo de vida útil de la plataforma. Entonces lo que se va a realizar es un análisis para determinar el mejor proyecto al cual se le puede realizar una campaña publicitaria para el año 2017.\n",
        "\n",
        "Se va a realizar un análisis preliminar de las plataformas con mayor éxito en ventas. Los datos incluyen lo siguiente: nombre de los videojuegos, año de salida, plataforma, calificación que le dan los expertos y los usuarios, ganancias por videojuego para las regiones: NA, UE y JP. El trabajo consiste en analizar el comportamiento de cada videojuego y plataforma en relacion a las ventas globales y por región."
      ]
    },
    {
      "cell_type": "markdown",
      "metadata": {
        "id": "3vFU899wTc1h"
      },
      "source": [
        "## Inicialización"
      ]
    },
    {
      "cell_type": "code",
      "execution_count": null,
      "metadata": {
        "id": "t4ZpgbhBTc1h"
      },
      "outputs": [],
      "source": [
        "from scipy import stats as st\n",
        "from scipy.stats import levene\n",
        "import scipy.stats as stats\n",
        "import pandas as pd\n",
        "import numpy as np\n",
        "import math\n",
        "import matplotlib.pyplot as plt"
      ]
    },
    {
      "cell_type": "markdown",
      "metadata": {
        "id": "Y8lIUHYZTc1i"
      },
      "source": [
        "## Cargar los datos"
      ]
    },
    {
      "cell_type": "code",
      "execution_count": null,
      "metadata": {
        "id": "eNZlfLqbTc1i"
      },
      "outputs": [],
      "source": [
        "game = pd.read_csv('/datasets/games.csv')"
      ]
    },
    {
      "cell_type": "markdown",
      "metadata": {
        "id": "CYo6-onITc1i"
      },
      "source": [
        "## Prepara los datos"
      ]
    },
    {
      "cell_type": "code",
      "execution_count": null,
      "metadata": {
        "id": "fpMhv5IhTc1j",
        "outputId": "30930d1f-6dee-41cb-854c-66c1a4973ccb"
      },
      "outputs": [
        {
          "data": {
            "text/html": [
              "<div>\n",
              "<style scoped>\n",
              "    .dataframe tbody tr th:only-of-type {\n",
              "        vertical-align: middle;\n",
              "    }\n",
              "\n",
              "    .dataframe tbody tr th {\n",
              "        vertical-align: top;\n",
              "    }\n",
              "\n",
              "    .dataframe thead th {\n",
              "        text-align: right;\n",
              "    }\n",
              "</style>\n",
              "<table border=\"1\" class=\"dataframe\">\n",
              "  <thead>\n",
              "    <tr style=\"text-align: right;\">\n",
              "      <th></th>\n",
              "      <th>Name</th>\n",
              "      <th>Platform</th>\n",
              "      <th>Year_of_Release</th>\n",
              "      <th>Genre</th>\n",
              "      <th>NA_sales</th>\n",
              "      <th>EU_sales</th>\n",
              "      <th>JP_sales</th>\n",
              "      <th>Other_sales</th>\n",
              "      <th>Critic_Score</th>\n",
              "      <th>User_Score</th>\n",
              "      <th>Rating</th>\n",
              "    </tr>\n",
              "  </thead>\n",
              "  <tbody>\n",
              "    <tr>\n",
              "      <th>0</th>\n",
              "      <td>Wii Sports</td>\n",
              "      <td>Wii</td>\n",
              "      <td>2006.0</td>\n",
              "      <td>Sports</td>\n",
              "      <td>41.36</td>\n",
              "      <td>28.96</td>\n",
              "      <td>3.77</td>\n",
              "      <td>8.45</td>\n",
              "      <td>76.0</td>\n",
              "      <td>8</td>\n",
              "      <td>E</td>\n",
              "    </tr>\n",
              "    <tr>\n",
              "      <th>1</th>\n",
              "      <td>Super Mario Bros.</td>\n",
              "      <td>NES</td>\n",
              "      <td>1985.0</td>\n",
              "      <td>Platform</td>\n",
              "      <td>29.08</td>\n",
              "      <td>3.58</td>\n",
              "      <td>6.81</td>\n",
              "      <td>0.77</td>\n",
              "      <td>NaN</td>\n",
              "      <td>NaN</td>\n",
              "      <td>NaN</td>\n",
              "    </tr>\n",
              "    <tr>\n",
              "      <th>2</th>\n",
              "      <td>Mario Kart Wii</td>\n",
              "      <td>Wii</td>\n",
              "      <td>2008.0</td>\n",
              "      <td>Racing</td>\n",
              "      <td>15.68</td>\n",
              "      <td>12.76</td>\n",
              "      <td>3.79</td>\n",
              "      <td>3.29</td>\n",
              "      <td>82.0</td>\n",
              "      <td>8.3</td>\n",
              "      <td>E</td>\n",
              "    </tr>\n",
              "    <tr>\n",
              "      <th>3</th>\n",
              "      <td>Wii Sports Resort</td>\n",
              "      <td>Wii</td>\n",
              "      <td>2009.0</td>\n",
              "      <td>Sports</td>\n",
              "      <td>15.61</td>\n",
              "      <td>10.93</td>\n",
              "      <td>3.28</td>\n",
              "      <td>2.95</td>\n",
              "      <td>80.0</td>\n",
              "      <td>8</td>\n",
              "      <td>E</td>\n",
              "    </tr>\n",
              "    <tr>\n",
              "      <th>4</th>\n",
              "      <td>Pokemon Red/Pokemon Blue</td>\n",
              "      <td>GB</td>\n",
              "      <td>1996.0</td>\n",
              "      <td>Role-Playing</td>\n",
              "      <td>11.27</td>\n",
              "      <td>8.89</td>\n",
              "      <td>10.22</td>\n",
              "      <td>1.00</td>\n",
              "      <td>NaN</td>\n",
              "      <td>NaN</td>\n",
              "      <td>NaN</td>\n",
              "    </tr>\n",
              "  </tbody>\n",
              "</table>\n",
              "</div>"
            ],
            "text/plain": [
              "                       Name Platform  Year_of_Release         Genre  NA_sales  \\\n",
              "0                Wii Sports      Wii           2006.0        Sports     41.36   \n",
              "1         Super Mario Bros.      NES           1985.0      Platform     29.08   \n",
              "2            Mario Kart Wii      Wii           2008.0        Racing     15.68   \n",
              "3         Wii Sports Resort      Wii           2009.0        Sports     15.61   \n",
              "4  Pokemon Red/Pokemon Blue       GB           1996.0  Role-Playing     11.27   \n",
              "\n",
              "   EU_sales  JP_sales  Other_sales  Critic_Score User_Score Rating  \n",
              "0     28.96      3.77         8.45          76.0          8      E  \n",
              "1      3.58      6.81         0.77           NaN        NaN    NaN  \n",
              "2     12.76      3.79         3.29          82.0        8.3      E  \n",
              "3     10.93      3.28         2.95          80.0          8      E  \n",
              "4      8.89     10.22         1.00           NaN        NaN    NaN  "
            ]
          },
          "execution_count": 3,
          "metadata": {},
          "output_type": "execute_result"
        }
      ],
      "source": [
        "game.head()"
      ]
    },
    {
      "cell_type": "code",
      "execution_count": null,
      "metadata": {
        "id": "dhLbJf1FTc1j",
        "outputId": "a1017094-70a8-45f5-d117-d0d6ebbcaa40"
      },
      "outputs": [
        {
          "name": "stdout",
          "output_type": "stream",
          "text": [
            "<class 'pandas.core.frame.DataFrame'>\n",
            "RangeIndex: 16715 entries, 0 to 16714\n",
            "Data columns (total 11 columns):\n",
            " #   Column           Non-Null Count  Dtype  \n",
            "---  ------           --------------  -----  \n",
            " 0   Name             16713 non-null  object \n",
            " 1   Platform         16715 non-null  object \n",
            " 2   Year_of_Release  16446 non-null  float64\n",
            " 3   Genre            16713 non-null  object \n",
            " 4   NA_sales         16715 non-null  float64\n",
            " 5   EU_sales         16715 non-null  float64\n",
            " 6   JP_sales         16715 non-null  float64\n",
            " 7   Other_sales      16715 non-null  float64\n",
            " 8   Critic_Score     8137 non-null   float64\n",
            " 9   User_Score       10014 non-null  object \n",
            " 10  Rating           9949 non-null   object \n",
            "dtypes: float64(6), object(5)\n",
            "memory usage: 1.4+ MB\n"
          ]
        }
      ],
      "source": [
        "game.info()"
      ]
    },
    {
      "cell_type": "markdown",
      "metadata": {
        "id": "9JO8Q3-NTc1j"
      },
      "source": [
        "Se observa que el dataframe esta compuesto por 16715 filas y 11 columnas, algunas tienen datos ausentes, los cuales se revisarán los datos para elegir la mejor opción y reemplazarlos. Adicional, todos los nombres de las columnas serán cambiados a minúsculas. Se convertirán los datos a los tipos que sean necesarios."
      ]
    },
    {
      "cell_type": "code",
      "execution_count": null,
      "metadata": {
        "id": "_h8SChjMTc1j"
      },
      "outputs": [],
      "source": [
        "game.columns = game.columns.str.lower()"
      ]
    },
    {
      "cell_type": "code",
      "execution_count": null,
      "metadata": {
        "id": "10xgmBSBTc1j",
        "outputId": "9efa5896-eb3d-456c-f20c-6e6314a1844b"
      },
      "outputs": [
        {
          "data": {
            "text/plain": [
              "name                  2\n",
              "platform              0\n",
              "year_of_release     269\n",
              "genre                 2\n",
              "na_sales              0\n",
              "eu_sales              0\n",
              "jp_sales              0\n",
              "other_sales           0\n",
              "critic_score       8578\n",
              "user_score         6701\n",
              "rating             6766\n",
              "dtype: int64"
            ]
          },
          "execution_count": 6,
          "metadata": {},
          "output_type": "execute_result"
        }
      ],
      "source": [
        "game.isna().sum()"
      ]
    },
    {
      "cell_type": "code",
      "execution_count": null,
      "metadata": {
        "id": "vH-w4aBsTc1k",
        "outputId": "0d50c7d1-0cc6-4f9e-f638-d4bdc1162a3f"
      },
      "outputs": [
        {
          "data": {
            "text/html": [
              "<div>\n",
              "<style scoped>\n",
              "    .dataframe tbody tr th:only-of-type {\n",
              "        vertical-align: middle;\n",
              "    }\n",
              "\n",
              "    .dataframe tbody tr th {\n",
              "        vertical-align: top;\n",
              "    }\n",
              "\n",
              "    .dataframe thead th {\n",
              "        text-align: right;\n",
              "    }\n",
              "</style>\n",
              "<table border=\"1\" class=\"dataframe\">\n",
              "  <thead>\n",
              "    <tr style=\"text-align: right;\">\n",
              "      <th></th>\n",
              "      <th>year_of_release</th>\n",
              "      <th>na_sales</th>\n",
              "      <th>eu_sales</th>\n",
              "      <th>jp_sales</th>\n",
              "      <th>other_sales</th>\n",
              "      <th>critic_score</th>\n",
              "    </tr>\n",
              "  </thead>\n",
              "  <tbody>\n",
              "    <tr>\n",
              "      <th>count</th>\n",
              "      <td>16446.000000</td>\n",
              "      <td>16715.000000</td>\n",
              "      <td>16715.000000</td>\n",
              "      <td>16715.000000</td>\n",
              "      <td>16715.000000</td>\n",
              "      <td>8137.000000</td>\n",
              "    </tr>\n",
              "    <tr>\n",
              "      <th>mean</th>\n",
              "      <td>2006.484616</td>\n",
              "      <td>0.263377</td>\n",
              "      <td>0.145060</td>\n",
              "      <td>0.077617</td>\n",
              "      <td>0.047342</td>\n",
              "      <td>68.967679</td>\n",
              "    </tr>\n",
              "    <tr>\n",
              "      <th>std</th>\n",
              "      <td>5.877050</td>\n",
              "      <td>0.813604</td>\n",
              "      <td>0.503339</td>\n",
              "      <td>0.308853</td>\n",
              "      <td>0.186731</td>\n",
              "      <td>13.938165</td>\n",
              "    </tr>\n",
              "    <tr>\n",
              "      <th>min</th>\n",
              "      <td>1980.000000</td>\n",
              "      <td>0.000000</td>\n",
              "      <td>0.000000</td>\n",
              "      <td>0.000000</td>\n",
              "      <td>0.000000</td>\n",
              "      <td>13.000000</td>\n",
              "    </tr>\n",
              "    <tr>\n",
              "      <th>25%</th>\n",
              "      <td>2003.000000</td>\n",
              "      <td>0.000000</td>\n",
              "      <td>0.000000</td>\n",
              "      <td>0.000000</td>\n",
              "      <td>0.000000</td>\n",
              "      <td>60.000000</td>\n",
              "    </tr>\n",
              "    <tr>\n",
              "      <th>50%</th>\n",
              "      <td>2007.000000</td>\n",
              "      <td>0.080000</td>\n",
              "      <td>0.020000</td>\n",
              "      <td>0.000000</td>\n",
              "      <td>0.010000</td>\n",
              "      <td>71.000000</td>\n",
              "    </tr>\n",
              "    <tr>\n",
              "      <th>75%</th>\n",
              "      <td>2010.000000</td>\n",
              "      <td>0.240000</td>\n",
              "      <td>0.110000</td>\n",
              "      <td>0.040000</td>\n",
              "      <td>0.030000</td>\n",
              "      <td>79.000000</td>\n",
              "    </tr>\n",
              "    <tr>\n",
              "      <th>max</th>\n",
              "      <td>2016.000000</td>\n",
              "      <td>41.360000</td>\n",
              "      <td>28.960000</td>\n",
              "      <td>10.220000</td>\n",
              "      <td>10.570000</td>\n",
              "      <td>98.000000</td>\n",
              "    </tr>\n",
              "  </tbody>\n",
              "</table>\n",
              "</div>"
            ],
            "text/plain": [
              "       year_of_release      na_sales      eu_sales      jp_sales  \\\n",
              "count     16446.000000  16715.000000  16715.000000  16715.000000   \n",
              "mean       2006.484616      0.263377      0.145060      0.077617   \n",
              "std           5.877050      0.813604      0.503339      0.308853   \n",
              "min        1980.000000      0.000000      0.000000      0.000000   \n",
              "25%        2003.000000      0.000000      0.000000      0.000000   \n",
              "50%        2007.000000      0.080000      0.020000      0.000000   \n",
              "75%        2010.000000      0.240000      0.110000      0.040000   \n",
              "max        2016.000000     41.360000     28.960000     10.220000   \n",
              "\n",
              "        other_sales  critic_score  \n",
              "count  16715.000000   8137.000000  \n",
              "mean       0.047342     68.967679  \n",
              "std        0.186731     13.938165  \n",
              "min        0.000000     13.000000  \n",
              "25%        0.000000     60.000000  \n",
              "50%        0.010000     71.000000  \n",
              "75%        0.030000     79.000000  \n",
              "max       10.570000     98.000000  "
            ]
          },
          "execution_count": 7,
          "metadata": {},
          "output_type": "execute_result"
        }
      ],
      "source": [
        "game.describe()"
      ]
    },
    {
      "cell_type": "markdown",
      "metadata": {
        "id": "zzeVo9kUTc1k"
      },
      "source": [
        "Como se observa en la tabla describe existen varios valores ausentes los cuales los revisaremos detenidamente, para analizar la mejor forma de imputarlos, en el caso de que no exista una manera conveniente de realizarlo, lo que haremos será dejarlos como valores ausentes. Especialmente tendremos cuidado con las columnas critic_score y user_score porque son las columnas que tienen un mayor númeor de valores ausentes y al imputarlos, puede que perdamos datos muy importantes."
      ]
    },
    {
      "cell_type": "markdown",
      "metadata": {
        "id": "PIXRMItdTc1k"
      },
      "source": [
        "### Name"
      ]
    },
    {
      "cell_type": "markdown",
      "metadata": {
        "id": "5PZxSVA2Tc1k"
      },
      "source": [
        "La columna name tiene 2 filas con datos ausentes. Al ser una cantidad demasiado pequeña y no tener mas datos para poder completarla, las eliminaremos del dataframe."
      ]
    },
    {
      "cell_type": "code",
      "execution_count": null,
      "metadata": {
        "id": "Yz5q22S6Tc1k"
      },
      "outputs": [],
      "source": [
        "game = game.dropna(subset=['name'])\n",
        "game = game.reset_index(drop = True)"
      ]
    },
    {
      "cell_type": "code",
      "execution_count": null,
      "metadata": {
        "id": "x1H7rcMQTc1k",
        "outputId": "a82776aa-74cc-44d8-9e1c-1d4b76f150e9"
      },
      "outputs": [
        {
          "data": {
            "text/plain": [
              "0"
            ]
          },
          "execution_count": 9,
          "metadata": {},
          "output_type": "execute_result"
        }
      ],
      "source": [
        "game['name'].isna().sum()"
      ]
    },
    {
      "cell_type": "markdown",
      "metadata": {
        "id": "GvS7AvzsTc1k"
      },
      "source": [
        "El tipo de dato de la columna \"name\" no es necesario realizar su cambio."
      ]
    },
    {
      "cell_type": "markdown",
      "metadata": {
        "id": "aj3D-kpSTc1k"
      },
      "source": [
        "### Platform"
      ]
    },
    {
      "cell_type": "markdown",
      "metadata": {
        "id": "rOkomdaDTc1k"
      },
      "source": [
        "Platform no tiene datos ausentes y se encuentra con el tipo de dato correcto."
      ]
    },
    {
      "cell_type": "markdown",
      "metadata": {
        "id": "EXvCwXHpTc1k"
      },
      "source": [
        "### Year of release"
      ]
    },
    {
      "cell_type": "markdown",
      "metadata": {
        "id": "vWuHUJDFTc1k"
      },
      "source": [
        "Year of release tiene 269 datos ausentes y el tipo de dato es float, lo cambiaremos a int porque en este caso los años son enteros."
      ]
    },
    {
      "cell_type": "markdown",
      "metadata": {
        "id": "LvKGKXGRTc1k"
      },
      "source": [
        "Para llenar los años de los videojuegos vamos a imputar el año de lanzamiento con otras plataformas."
      ]
    },
    {
      "cell_type": "code",
      "execution_count": null,
      "metadata": {
        "id": "3vErUdfdTc1k"
      },
      "outputs": [],
      "source": [
        "name_med = game.groupby('name')['year_of_release'].agg(pd.Series.mode)\n",
        "\n",
        "def year_name(row):\n",
        "    name = row['name']\n",
        "    year = row['year_of_release']\n",
        "\n",
        "    if pd.isna(year):\n",
        "        return name_med[name]\n",
        "    else:\n",
        "        return year"
      ]
    },
    {
      "cell_type": "code",
      "execution_count": null,
      "metadata": {
        "id": "uB1vlUEMTc1l",
        "outputId": "f57531db-3583-4d80-f973-c480c170d91b"
      },
      "outputs": [
        {
          "name": "stdout",
          "output_type": "stream",
          "text": [
            "2003.0\n"
          ]
        }
      ],
      "source": [
        "#Se comprueba si la función esta correcta con un valor ausente, en este caso \" Madden NFL 2004\", que salió en el 2003\n",
        "print(year_name(game.loc[183]))"
      ]
    },
    {
      "cell_type": "code",
      "execution_count": null,
      "metadata": {
        "id": "F5Uti9VdTc1l"
      },
      "outputs": [],
      "source": [
        "#Aplicando la función a la columna\n",
        "game['year_of_release'] = game.apply(year_name, axis=1)"
      ]
    },
    {
      "cell_type": "markdown",
      "metadata": {
        "id": "xIRqzm9cTc1l"
      },
      "source": [
        "Después de haber imputado los valores ausentes por la función, aún hay videojuegos que solo salieron para una plataforma y que no se halló el año de lanzamiento. Debido a esto y que no se tienen mas datos, los años de lanzamiento ausentes se eliminarán porque corresponden al 0.8%."
      ]
    },
    {
      "cell_type": "code",
      "execution_count": null,
      "metadata": {
        "id": "ljLdfE9KTc1l"
      },
      "outputs": [],
      "source": [
        "game['year_of_release'] = pd.to_numeric(game['year_of_release'],errors='coerce')"
      ]
    },
    {
      "cell_type": "code",
      "execution_count": null,
      "metadata": {
        "id": "hBWitFPHTc1l"
      },
      "outputs": [],
      "source": [
        "game = game.dropna(subset = ['year_of_release'])\n",
        "game = game.reset_index(drop= True)"
      ]
    },
    {
      "cell_type": "code",
      "execution_count": null,
      "metadata": {
        "id": "_9YAwCLSTc1l",
        "outputId": "b63da55c-4233-4cff-bece-1a55f0775a23"
      },
      "outputs": [
        {
          "data": {
            "text/plain": [
              "0"
            ]
          },
          "execution_count": 15,
          "metadata": {},
          "output_type": "execute_result"
        }
      ],
      "source": [
        "game['year_of_release'].isna().sum()"
      ]
    },
    {
      "cell_type": "code",
      "execution_count": null,
      "metadata": {
        "id": "LOfbCpw-Tc1l"
      },
      "outputs": [],
      "source": [
        "#Cambio de datos a tipo entero\n",
        "game['year_of_release'] = game['year_of_release'].astype('int')"
      ]
    },
    {
      "cell_type": "markdown",
      "metadata": {
        "id": "hO8zOJRHTc1l"
      },
      "source": [
        "### Genre"
      ]
    },
    {
      "cell_type": "code",
      "execution_count": null,
      "metadata": {
        "id": "L7lOW2wLTc1o",
        "outputId": "27224a3c-15dc-449d-e90b-632fda4db1c2"
      },
      "outputs": [
        {
          "data": {
            "text/plain": [
              "0"
            ]
          },
          "execution_count": 17,
          "metadata": {},
          "output_type": "execute_result"
        }
      ],
      "source": [
        "#Verificando que no haya mas valores nulos\n",
        "game['genre'].isna().sum()"
      ]
    },
    {
      "cell_type": "markdown",
      "metadata": {
        "id": "VCGbzA9wTc1p"
      },
      "source": [
        "La columna genre no tiene datos ausentes y el tipo de dato se encuentra correcto."
      ]
    },
    {
      "cell_type": "markdown",
      "metadata": {
        "id": "0GP9IKIkTc1p"
      },
      "source": [
        "### na_sales, eu_sales, jp_sales, other_sales"
      ]
    },
    {
      "cell_type": "markdown",
      "metadata": {
        "id": "ydh1Seu6Tc1p"
      },
      "source": [
        "Las ventas no tiene datos que modificarse y el tipo de dato se encuentra correcto"
      ]
    },
    {
      "cell_type": "markdown",
      "metadata": {
        "id": "u58h1HNRTc1p"
      },
      "source": [
        "### Critic score"
      ]
    },
    {
      "cell_type": "markdown",
      "metadata": {
        "id": "SShl7OyoTc1p"
      },
      "source": [
        "Al no tener datos adicionales para las columnas critic_score y user_score no se realizará ningún cambio, porque los datos son sensible a este tipo de cambios, estas columnas quedarán como valores ausentes."
      ]
    },
    {
      "cell_type": "code",
      "execution_count": null,
      "metadata": {
        "id": "b9Ug8sC_Tc1p",
        "outputId": "983e8de2-ac3c-4277-9748-dd4a85dc6253"
      },
      "outputs": [
        {
          "data": {
            "text/plain": [
              "8490"
            ]
          },
          "execution_count": 18,
          "metadata": {},
          "output_type": "execute_result"
        }
      ],
      "source": [
        "#Verificando los valores nulos\n",
        "game['critic_score'].isna().sum()"
      ]
    },
    {
      "cell_type": "markdown",
      "metadata": {
        "id": "4bfu2x65Tc1p"
      },
      "source": [
        "### User score"
      ]
    },
    {
      "cell_type": "code",
      "execution_count": null,
      "metadata": {
        "id": "s5F4tn-WTc1p",
        "outputId": "74431a07-e21c-41f2-b055-25c63ff6798b"
      },
      "outputs": [
        {
          "data": {
            "text/plain": [
              "name                  0\n",
              "platform              0\n",
              "year_of_release       0\n",
              "genre                 0\n",
              "na_sales              0\n",
              "eu_sales              0\n",
              "jp_sales              0\n",
              "other_sales           0\n",
              "critic_score          0\n",
              "user_score         2393\n",
              "rating                0\n",
              "dtype: int64"
            ]
          },
          "execution_count": 19,
          "metadata": {},
          "output_type": "execute_result"
        }
      ],
      "source": [
        "game[game[['user_score']]=='tbd'].count()"
      ]
    },
    {
      "cell_type": "markdown",
      "metadata": {
        "id": "NdpVUEuLTc1p"
      },
      "source": [
        "Se observa que la columna user_score a parte de los valores ausentes tiene 2424 filas con la cadena \"tbd\", osea, que aún no se le ha dado un calificación al juego. Esto representa el 14.5%. Al no tener mas información de los datos con \"tbd\", convertimos estos datos a valores ausentes. También dejaremos el tipo de datos en float porque los valores que ya existen se encuentran en este tipo."
      ]
    },
    {
      "cell_type": "code",
      "execution_count": null,
      "metadata": {
        "id": "ZNiLcTXcTc1p"
      },
      "outputs": [],
      "source": [
        "game['user_score'] = pd.to_numeric(game['user_score'],errors='coerce')"
      ]
    },
    {
      "cell_type": "code",
      "execution_count": null,
      "metadata": {
        "id": "7qnTjOblTc1p"
      },
      "outputs": [],
      "source": [
        "game['user_score'] = game['user_score'].replace('tbd',None)"
      ]
    },
    {
      "cell_type": "code",
      "execution_count": null,
      "metadata": {
        "id": "L0Jv0EhsTc1p",
        "outputId": "be5ae82b-b54d-4f90-c51e-ac9714b5fd00"
      },
      "outputs": [
        {
          "data": {
            "text/plain": [
              "9024"
            ]
          },
          "execution_count": 22,
          "metadata": {},
          "output_type": "execute_result"
        }
      ],
      "source": [
        "#Verificando los valores nulos\n",
        "game['user_score'].isna().sum()"
      ]
    },
    {
      "cell_type": "markdown",
      "metadata": {
        "id": "lNwHtZFKTc1p"
      },
      "source": [
        "### Rating"
      ]
    },
    {
      "cell_type": "markdown",
      "metadata": {
        "id": "Oi8r5BqsTc1q"
      },
      "source": [
        "La columna rating tiene 6764 valores ausentes, y al no tener mas información acerca de como se puede rellenar estos valores y al ser valores categóricos, se procede a reemplazarlos con la moda, osea el valor mas frecuente para cada género."
      ]
    },
    {
      "cell_type": "code",
      "execution_count": null,
      "metadata": {
        "id": "dNxq9B3ETc1q",
        "outputId": "43cf17d5-e530-4837-cd4f-fc9047207807"
      },
      "outputs": [
        {
          "data": {
            "text/plain": [
              "genre\n",
              "Action          T\n",
              "Adventure       E\n",
              "Fighting        T\n",
              "Misc            E\n",
              "Platform        E\n",
              "Puzzle          E\n",
              "Racing          E\n",
              "Role-Playing    T\n",
              "Shooter         M\n",
              "Simulation      E\n",
              "Sports          E\n",
              "Strategy        T\n",
              "Name: rating, dtype: object"
            ]
          },
          "execution_count": 23,
          "metadata": {},
          "output_type": "execute_result"
        }
      ],
      "source": [
        "rating_genre_mode = game.groupby('genre')['rating'].apply(lambda x: x.mode()[0])\n",
        "rating_genre_mode"
      ]
    },
    {
      "cell_type": "code",
      "execution_count": null,
      "metadata": {
        "id": "L9ocvPnmTc1q"
      },
      "outputs": [],
      "source": [
        "def genre_rating(row):\n",
        "    genre = row['genre']\n",
        "    rating = row['rating']\n",
        "\n",
        "    if pd.isna(rating):\n",
        "        return rating_genre_mode[genre]\n",
        "    else:\n",
        "        return rating"
      ]
    },
    {
      "cell_type": "code",
      "execution_count": null,
      "metadata": {
        "id": "_GtoLw9CTc1q"
      },
      "outputs": [],
      "source": [
        "game['rating'] = game.apply(genre_rating, axis=1)"
      ]
    },
    {
      "cell_type": "code",
      "execution_count": null,
      "metadata": {
        "id": "Z8uj8HT_Tc1q",
        "outputId": "ba0b6ce3-df5a-4824-9744-369dd09e5c28"
      },
      "outputs": [
        {
          "data": {
            "text/plain": [
              "0"
            ]
          },
          "execution_count": 26,
          "metadata": {},
          "output_type": "execute_result"
        }
      ],
      "source": [
        "#Verificando que no haya mas valores nulos\n",
        "game['rating'].isna().sum()"
      ]
    },
    {
      "cell_type": "markdown",
      "metadata": {
        "id": "snxdgaw4Tc1q"
      },
      "source": [
        "Carlos, con respecto al year_of_release, si realicé eso, si revisas la función, imputé los valores ausentes con otras plataformas y después al tener una cantidad tan pequeña de valores ausentes, decidí eliminar esas filas."
      ]
    },
    {
      "cell_type": "markdown",
      "metadata": {
        "id": "L5wv3BUqTc1q"
      },
      "source": [
        "## Ventas totales"
      ]
    },
    {
      "cell_type": "code",
      "execution_count": null,
      "metadata": {
        "id": "eoddrpL2Tc1q"
      },
      "outputs": [],
      "source": [
        "# Se calcula las ventas totales para cada videojuego en una columna separada\n",
        "game['total_sales'] = game['na_sales'] + game['jp_sales'] + game['eu_sales'] + game['other_sales']"
      ]
    },
    {
      "cell_type": "markdown",
      "metadata": {
        "id": "XdaoQxh1Tc1q"
      },
      "source": [
        "## Análisis de datos"
      ]
    },
    {
      "cell_type": "markdown",
      "metadata": {
        "id": "TNbkS3SJTc1q"
      },
      "source": [
        "### Juegos lanzados por año"
      ]
    },
    {
      "cell_type": "code",
      "execution_count": null,
      "metadata": {
        "id": "o5Bgq2ISTc1q"
      },
      "outputs": [],
      "source": [
        "game_year = game.pivot_table(index=['year_of_release'], values = ['name'], aggfunc='count')"
      ]
    },
    {
      "cell_type": "code",
      "execution_count": null,
      "metadata": {
        "id": "H-PyxibUTc1r",
        "outputId": "7439491b-9069-4eb3-dddf-c1b4b3140f5d"
      },
      "outputs": [
        {
          "data": {
            "image/png": "[encoded data removed]",
            "text/plain": [
              "<Figure size 864x432 with 1 Axes>"
            ]
          },
          "metadata": {
            "needs_background": "light"
          },
          "output_type": "display_data"
        }
      ],
      "source": [
        "game_year.plot(kind='bar', figsize=(12,6), grid = True)\n",
        "plt.title(\"Cantidad de juegos lanzados por año\")\n",
        "plt.show()"
      ]
    },
    {
      "cell_type": "markdown",
      "metadata": {
        "id": "S2eay_LxTc1r"
      },
      "source": [
        "Como se observa en la figura, los años en donde han salido mas videojuegos son 2008 y 2009. A partir del año 1990 ha habido un crecimiento en la creación de videojuegos, pero a partir del año 2009 ha habido un descenso en sus lanzamientos hasta mantenerse  a partir del año 2013 con casi la mitad de videojuegos que salian en el año 2008 y 2009."
      ]
    },
    {
      "cell_type": "code",
      "execution_count": null,
      "metadata": {
        "id": "DD53-RK8Tc1r",
        "outputId": "c47757e8-eb67-4abd-b82f-e8493fa23f37"
      },
      "outputs": [
        {
          "data": {
            "image/png": "[encoded data removed]",
            "text/plain": [
              "<Figure size 648x360 with 1 Axes>"
            ]
          },
          "metadata": {
            "needs_background": "light"
          },
          "output_type": "display_data"
        }
      ],
      "source": [
        "game_year.boxplot(figsize=(9,5))\n",
        "plt.show()"
      ]
    },
    {
      "cell_type": "markdown",
      "metadata": {
        "id": "fHneR67nTc1r"
      },
      "source": [
        "### Plataforma"
      ]
    },
    {
      "cell_type": "code",
      "execution_count": null,
      "metadata": {
        "id": "mfUfbWrwTc1r"
      },
      "outputs": [],
      "source": [
        "game_platf = game.pivot_table(index=['platform'], values = ['total_sales'], aggfunc='sum').sort_values(by='total_sales', ascending=False)"
      ]
    },
    {
      "cell_type": "code",
      "execution_count": null,
      "metadata": {
        "id": "Oio4B4lCTc1r",
        "outputId": "0580de6a-3e1e-48fb-848b-76cc5c0bea97"
      },
      "outputs": [
        {
          "data": {
            "image/png": "[encoded data removed]",
            "text/plain": [
              "<Figure size 864x432 with 1 Axes>"
            ]
          },
          "metadata": {
            "needs_background": "light"
          },
          "output_type": "display_data"
        }
      ],
      "source": [
        "game_platf.plot(kind='bar', figsize=(12,6), grid = True)\n",
        "plt.title(\"Ventas totales por plataforma\")\n",
        "plt.show()"
      ]
    },
    {
      "cell_type": "markdown",
      "metadata": {
        "id": "MVtn4mlJTc1r"
      },
      "source": [
        "En la gráfica se muestra que la consola que lidera las ventas hasta el año 2016 es PS2 seguida por X360, PS3 y Wii."
      ]
    },
    {
      "cell_type": "code",
      "execution_count": null,
      "metadata": {
        "id": "II2XQYNUTc1r",
        "outputId": "e19f91c2-2843-420c-a146-aad2e33a2cce"
      },
      "outputs": [
        {
          "data": {
            "text/html": [
              "<div>\n",
              "<style scoped>\n",
              "    .dataframe tbody tr th:only-of-type {\n",
              "        vertical-align: middle;\n",
              "    }\n",
              "\n",
              "    .dataframe tbody tr th {\n",
              "        vertical-align: top;\n",
              "    }\n",
              "\n",
              "    .dataframe thead th {\n",
              "        text-align: right;\n",
              "    }\n",
              "</style>\n",
              "<table border=\"1\" class=\"dataframe\">\n",
              "  <thead>\n",
              "    <tr style=\"text-align: right;\">\n",
              "      <th></th>\n",
              "      <th>total_sales</th>\n",
              "    </tr>\n",
              "  </thead>\n",
              "  <tbody>\n",
              "    <tr>\n",
              "      <th>count</th>\n",
              "      <td>31.000000</td>\n",
              "    </tr>\n",
              "    <tr>\n",
              "      <th>mean</th>\n",
              "      <td>285.970968</td>\n",
              "    </tr>\n",
              "    <tr>\n",
              "      <th>std</th>\n",
              "      <td>346.534958</td>\n",
              "    </tr>\n",
              "    <tr>\n",
              "      <th>min</th>\n",
              "      <td>0.030000</td>\n",
              "    </tr>\n",
              "    <tr>\n",
              "      <th>25%</th>\n",
              "      <td>22.150000</td>\n",
              "    </tr>\n",
              "    <tr>\n",
              "      <th>50%</th>\n",
              "      <td>200.040000</td>\n",
              "    </tr>\n",
              "    <tr>\n",
              "      <th>75%</th>\n",
              "      <td>303.650000</td>\n",
              "    </tr>\n",
              "    <tr>\n",
              "      <th>max</th>\n",
              "      <td>1246.910000</td>\n",
              "    </tr>\n",
              "  </tbody>\n",
              "</table>\n",
              "</div>"
            ],
            "text/plain": [
              "       total_sales\n",
              "count    31.000000\n",
              "mean    285.970968\n",
              "std     346.534958\n",
              "min       0.030000\n",
              "25%      22.150000\n",
              "50%     200.040000\n",
              "75%     303.650000\n",
              "max    1246.910000"
            ]
          },
          "execution_count": 33,
          "metadata": {},
          "output_type": "execute_result"
        }
      ],
      "source": [
        "game_platf.describe()"
      ]
    },
    {
      "cell_type": "markdown",
      "metadata": {
        "id": "PFbls1MsTc1r"
      },
      "source": [
        "Se eligen las consolas que han tenido la mayor cantidad de ventas, y se eligen a aquellas que tienen valores en ventas totales superiores a 303.65 porque estas son las que tienen el 75% de las ventas totales."
      ]
    },
    {
      "cell_type": "code",
      "execution_count": null,
      "metadata": {
        "id": "njdYna97Tc1r"
      },
      "outputs": [],
      "source": [
        "game_platf1 = game_platf.query('total_sales >= 303.65')"
      ]
    },
    {
      "cell_type": "code",
      "execution_count": null,
      "metadata": {
        "id": "CFlEzeobTc1r",
        "outputId": "a42db60f-d6bb-47b8-d332-9948692aa792"
      },
      "outputs": [
        {
          "data": {
            "text/html": [
              "<div>\n",
              "<style scoped>\n",
              "    .dataframe tbody tr th:only-of-type {\n",
              "        vertical-align: middle;\n",
              "    }\n",
              "\n",
              "    .dataframe tbody tr th {\n",
              "        vertical-align: top;\n",
              "    }\n",
              "\n",
              "    .dataframe thead th {\n",
              "        text-align: right;\n",
              "    }\n",
              "</style>\n",
              "<table border=\"1\" class=\"dataframe\">\n",
              "  <thead>\n",
              "    <tr style=\"text-align: right;\">\n",
              "      <th></th>\n",
              "      <th>total_sales</th>\n",
              "    </tr>\n",
              "    <tr>\n",
              "      <th>platform</th>\n",
              "      <th></th>\n",
              "    </tr>\n",
              "  </thead>\n",
              "  <tbody>\n",
              "    <tr>\n",
              "      <th>PS2</th>\n",
              "      <td>1246.91</td>\n",
              "    </tr>\n",
              "    <tr>\n",
              "      <th>X360</th>\n",
              "      <td>966.61</td>\n",
              "    </tr>\n",
              "    <tr>\n",
              "      <th>PS3</th>\n",
              "      <td>935.19</td>\n",
              "    </tr>\n",
              "    <tr>\n",
              "      <th>Wii</th>\n",
              "      <td>903.31</td>\n",
              "    </tr>\n",
              "    <tr>\n",
              "      <th>DS</th>\n",
              "      <td>804.28</td>\n",
              "    </tr>\n",
              "    <tr>\n",
              "      <th>PS</th>\n",
              "      <td>727.58</td>\n",
              "    </tr>\n",
              "    <tr>\n",
              "      <th>PS4</th>\n",
              "      <td>314.14</td>\n",
              "    </tr>\n",
              "    <tr>\n",
              "      <th>GBA</th>\n",
              "      <td>313.73</td>\n",
              "    </tr>\n",
              "  </tbody>\n",
              "</table>\n",
              "</div>"
            ],
            "text/plain": [
              "          total_sales\n",
              "platform             \n",
              "PS2           1246.91\n",
              "X360           966.61\n",
              "PS3            935.19\n",
              "Wii            903.31\n",
              "DS             804.28\n",
              "PS             727.58\n",
              "PS4            314.14\n",
              "GBA            313.73"
            ]
          },
          "execution_count": 35,
          "metadata": {},
          "output_type": "execute_result"
        }
      ],
      "source": [
        "game_platf1"
      ]
    },
    {
      "cell_type": "code",
      "execution_count": null,
      "metadata": {
        "id": "Murmmja2Tc1r"
      },
      "outputs": [],
      "source": [
        "game_platf_cons1 = game.query('platform == [\"DS\", \"GBA\", \"PS\", \"PS2\", \"Wii\"]')\n",
        "game_platf_cons2 = game.query('platform == [\"PS3\", \"PS4\", \"X360\"]')"
      ]
    },
    {
      "cell_type": "code",
      "execution_count": null,
      "metadata": {
        "id": "PQYEEt_2Tc1r"
      },
      "outputs": [],
      "source": [
        "game_platf2 = game_platf_cons1.pivot_table(index=['year_of_release'], columns = ['platform'], values = ['total_sales'], aggfunc='sum')\n",
        "game_platf3 = game_platf_cons2.pivot_table(index=['year_of_release'], columns = ['platform'], values = ['total_sales'], aggfunc='sum')"
      ]
    },
    {
      "cell_type": "code",
      "execution_count": null,
      "metadata": {
        "id": "Wv5DsZA7Tc1s",
        "outputId": "95a31836-9ecc-4ab3-a06f-cbc36cc6870d"
      },
      "outputs": [
        {
          "data": {
            "text/html": [
              "<div>\n",
              "<style scoped>\n",
              "    .dataframe tbody tr th:only-of-type {\n",
              "        vertical-align: middle;\n",
              "    }\n",
              "\n",
              "    .dataframe tbody tr th {\n",
              "        vertical-align: top;\n",
              "    }\n",
              "\n",
              "    .dataframe thead tr th {\n",
              "        text-align: left;\n",
              "    }\n",
              "\n",
              "    .dataframe thead tr:last-of-type th {\n",
              "        text-align: right;\n",
              "    }\n",
              "</style>\n",
              "<table border=\"1\" class=\"dataframe\">\n",
              "  <thead>\n",
              "    <tr>\n",
              "      <th></th>\n",
              "      <th colspan=\"5\" halign=\"left\">total_sales</th>\n",
              "    </tr>\n",
              "    <tr>\n",
              "      <th>platform</th>\n",
              "      <th>DS</th>\n",
              "      <th>GBA</th>\n",
              "      <th>PS</th>\n",
              "      <th>PS2</th>\n",
              "      <th>Wii</th>\n",
              "    </tr>\n",
              "    <tr>\n",
              "      <th>year_of_release</th>\n",
              "      <th></th>\n",
              "      <th></th>\n",
              "      <th></th>\n",
              "      <th></th>\n",
              "      <th></th>\n",
              "    </tr>\n",
              "  </thead>\n",
              "  <tbody>\n",
              "    <tr>\n",
              "      <th>1985</th>\n",
              "      <td>0.02</td>\n",
              "      <td>NaN</td>\n",
              "      <td>NaN</td>\n",
              "      <td>NaN</td>\n",
              "      <td>NaN</td>\n",
              "    </tr>\n",
              "    <tr>\n",
              "      <th>1994</th>\n",
              "      <td>NaN</td>\n",
              "      <td>NaN</td>\n",
              "      <td>6.03</td>\n",
              "      <td>NaN</td>\n",
              "      <td>NaN</td>\n",
              "    </tr>\n",
              "    <tr>\n",
              "      <th>1995</th>\n",
              "      <td>NaN</td>\n",
              "      <td>NaN</td>\n",
              "      <td>35.96</td>\n",
              "      <td>NaN</td>\n",
              "      <td>NaN</td>\n",
              "    </tr>\n",
              "    <tr>\n",
              "      <th>1996</th>\n",
              "      <td>NaN</td>\n",
              "      <td>NaN</td>\n",
              "      <td>94.70</td>\n",
              "      <td>NaN</td>\n",
              "      <td>NaN</td>\n",
              "    </tr>\n",
              "    <tr>\n",
              "      <th>1997</th>\n",
              "      <td>NaN</td>\n",
              "      <td>NaN</td>\n",
              "      <td>136.17</td>\n",
              "      <td>NaN</td>\n",
              "      <td>NaN</td>\n",
              "    </tr>\n",
              "    <tr>\n",
              "      <th>1998</th>\n",
              "      <td>NaN</td>\n",
              "      <td>NaN</td>\n",
              "      <td>169.49</td>\n",
              "      <td>NaN</td>\n",
              "      <td>NaN</td>\n",
              "    </tr>\n",
              "    <tr>\n",
              "      <th>1999</th>\n",
              "      <td>NaN</td>\n",
              "      <td>NaN</td>\n",
              "      <td>144.53</td>\n",
              "      <td>NaN</td>\n",
              "      <td>NaN</td>\n",
              "    </tr>\n",
              "    <tr>\n",
              "      <th>2000</th>\n",
              "      <td>NaN</td>\n",
              "      <td>0.07</td>\n",
              "      <td>96.37</td>\n",
              "      <td>39.17</td>\n",
              "      <td>NaN</td>\n",
              "    </tr>\n",
              "    <tr>\n",
              "      <th>2001</th>\n",
              "      <td>NaN</td>\n",
              "      <td>61.53</td>\n",
              "      <td>35.59</td>\n",
              "      <td>166.43</td>\n",
              "      <td>NaN</td>\n",
              "    </tr>\n",
              "    <tr>\n",
              "      <th>2002</th>\n",
              "      <td>NaN</td>\n",
              "      <td>74.16</td>\n",
              "      <td>6.67</td>\n",
              "      <td>208.36</td>\n",
              "      <td>NaN</td>\n",
              "    </tr>\n",
              "    <tr>\n",
              "      <th>2003</th>\n",
              "      <td>NaN</td>\n",
              "      <td>56.67</td>\n",
              "      <td>2.07</td>\n",
              "      <td>193.05</td>\n",
              "      <td>NaN</td>\n",
              "    </tr>\n",
              "    <tr>\n",
              "      <th>2004</th>\n",
              "      <td>17.27</td>\n",
              "      <td>77.91</td>\n",
              "      <td>NaN</td>\n",
              "      <td>211.81</td>\n",
              "      <td>NaN</td>\n",
              "    </tr>\n",
              "    <tr>\n",
              "      <th>2005</th>\n",
              "      <td>130.14</td>\n",
              "      <td>34.53</td>\n",
              "      <td>NaN</td>\n",
              "      <td>160.66</td>\n",
              "      <td>NaN</td>\n",
              "    </tr>\n",
              "    <tr>\n",
              "      <th>2006</th>\n",
              "      <td>119.81</td>\n",
              "      <td>5.46</td>\n",
              "      <td>NaN</td>\n",
              "      <td>103.99</td>\n",
              "      <td>140.19</td>\n",
              "    </tr>\n",
              "    <tr>\n",
              "      <th>2007</th>\n",
              "      <td>147.23</td>\n",
              "      <td>3.40</td>\n",
              "      <td>NaN</td>\n",
              "      <td>76.10</td>\n",
              "      <td>153.41</td>\n",
              "    </tr>\n",
              "    <tr>\n",
              "      <th>2008</th>\n",
              "      <td>145.36</td>\n",
              "      <td>NaN</td>\n",
              "      <td>NaN</td>\n",
              "      <td>53.90</td>\n",
              "      <td>177.68</td>\n",
              "    </tr>\n",
              "    <tr>\n",
              "      <th>2009</th>\n",
              "      <td>119.56</td>\n",
              "      <td>NaN</td>\n",
              "      <td>NaN</td>\n",
              "      <td>26.40</td>\n",
              "      <td>206.97</td>\n",
              "    </tr>\n",
              "    <tr>\n",
              "      <th>2010</th>\n",
              "      <td>85.35</td>\n",
              "      <td>NaN</td>\n",
              "      <td>NaN</td>\n",
              "      <td>6.59</td>\n",
              "      <td>128.67</td>\n",
              "    </tr>\n",
              "    <tr>\n",
              "      <th>2011</th>\n",
              "      <td>26.33</td>\n",
              "      <td>NaN</td>\n",
              "      <td>NaN</td>\n",
              "      <td>0.45</td>\n",
              "      <td>59.79</td>\n",
              "    </tr>\n",
              "    <tr>\n",
              "      <th>2012</th>\n",
              "      <td>11.67</td>\n",
              "      <td>NaN</td>\n",
              "      <td>NaN</td>\n",
              "      <td>NaN</td>\n",
              "      <td>22.94</td>\n",
              "    </tr>\n",
              "    <tr>\n",
              "      <th>2013</th>\n",
              "      <td>1.54</td>\n",
              "      <td>NaN</td>\n",
              "      <td>NaN</td>\n",
              "      <td>NaN</td>\n",
              "      <td>8.59</td>\n",
              "    </tr>\n",
              "    <tr>\n",
              "      <th>2014</th>\n",
              "      <td>NaN</td>\n",
              "      <td>NaN</td>\n",
              "      <td>NaN</td>\n",
              "      <td>NaN</td>\n",
              "      <td>3.75</td>\n",
              "    </tr>\n",
              "    <tr>\n",
              "      <th>2015</th>\n",
              "      <td>NaN</td>\n",
              "      <td>NaN</td>\n",
              "      <td>NaN</td>\n",
              "      <td>NaN</td>\n",
              "      <td>1.14</td>\n",
              "    </tr>\n",
              "    <tr>\n",
              "      <th>2016</th>\n",
              "      <td>NaN</td>\n",
              "      <td>NaN</td>\n",
              "      <td>NaN</td>\n",
              "      <td>NaN</td>\n",
              "      <td>0.18</td>\n",
              "    </tr>\n",
              "  </tbody>\n",
              "</table>\n",
              "</div>"
            ],
            "text/plain": [
              "                total_sales                               \n",
              "platform                 DS    GBA      PS     PS2     Wii\n",
              "year_of_release                                           \n",
              "1985                   0.02    NaN     NaN     NaN     NaN\n",
              "1994                    NaN    NaN    6.03     NaN     NaN\n",
              "1995                    NaN    NaN   35.96     NaN     NaN\n",
              "1996                    NaN    NaN   94.70     NaN     NaN\n",
              "1997                    NaN    NaN  136.17     NaN     NaN\n",
              "1998                    NaN    NaN  169.49     NaN     NaN\n",
              "1999                    NaN    NaN  144.53     NaN     NaN\n",
              "2000                    NaN   0.07   96.37   39.17     NaN\n",
              "2001                    NaN  61.53   35.59  166.43     NaN\n",
              "2002                    NaN  74.16    6.67  208.36     NaN\n",
              "2003                    NaN  56.67    2.07  193.05     NaN\n",
              "2004                  17.27  77.91     NaN  211.81     NaN\n",
              "2005                 130.14  34.53     NaN  160.66     NaN\n",
              "2006                 119.81   5.46     NaN  103.99  140.19\n",
              "2007                 147.23   3.40     NaN   76.10  153.41\n",
              "2008                 145.36    NaN     NaN   53.90  177.68\n",
              "2009                 119.56    NaN     NaN   26.40  206.97\n",
              "2010                  85.35    NaN     NaN    6.59  128.67\n",
              "2011                  26.33    NaN     NaN    0.45   59.79\n",
              "2012                  11.67    NaN     NaN     NaN   22.94\n",
              "2013                   1.54    NaN     NaN     NaN    8.59\n",
              "2014                    NaN    NaN     NaN     NaN    3.75\n",
              "2015                    NaN    NaN     NaN     NaN    1.14\n",
              "2016                    NaN    NaN     NaN     NaN    0.18"
            ]
          },
          "execution_count": 38,
          "metadata": {},
          "output_type": "execute_result"
        }
      ],
      "source": [
        "game_platf2"
      ]
    },
    {
      "cell_type": "code",
      "execution_count": null,
      "metadata": {
        "id": "jKkdQcHlTc1s",
        "outputId": "c896e090-b0d0-480d-c515-30782cd88ab8"
      },
      "outputs": [
        {
          "data": {
            "image/png": "[encoded data removed]",
            "text/plain": [
              "<Figure size 1440x720 with 1 Axes>"
            ]
          },
          "metadata": {
            "needs_background": "light"
          },
          "output_type": "display_data"
        }
      ],
      "source": [
        "game_platf2.plot(kind='bar', figsize=(20,10), grid = True)\n",
        "plt.title(\"Ventas totales por año para cada plataforma\")\n",
        "plt.show()"
      ]
    },
    {
      "cell_type": "code",
      "execution_count": null,
      "metadata": {
        "id": "2CpuX-wfTc1s",
        "outputId": "88fc4312-856d-4a38-b07a-ecf84b96ccd9"
      },
      "outputs": [
        {
          "data": {
            "text/html": [
              "<div>\n",
              "<style scoped>\n",
              "    .dataframe tbody tr th:only-of-type {\n",
              "        vertical-align: middle;\n",
              "    }\n",
              "\n",
              "    .dataframe tbody tr th {\n",
              "        vertical-align: top;\n",
              "    }\n",
              "\n",
              "    .dataframe thead tr th {\n",
              "        text-align: left;\n",
              "    }\n",
              "\n",
              "    .dataframe thead tr:last-of-type th {\n",
              "        text-align: right;\n",
              "    }\n",
              "</style>\n",
              "<table border=\"1\" class=\"dataframe\">\n",
              "  <thead>\n",
              "    <tr>\n",
              "      <th></th>\n",
              "      <th colspan=\"3\" halign=\"left\">total_sales</th>\n",
              "    </tr>\n",
              "    <tr>\n",
              "      <th>platform</th>\n",
              "      <th>PS3</th>\n",
              "      <th>PS4</th>\n",
              "      <th>X360</th>\n",
              "    </tr>\n",
              "    <tr>\n",
              "      <th>year_of_release</th>\n",
              "      <th></th>\n",
              "      <th></th>\n",
              "      <th></th>\n",
              "    </tr>\n",
              "  </thead>\n",
              "  <tbody>\n",
              "    <tr>\n",
              "      <th>2005</th>\n",
              "      <td>0.19</td>\n",
              "      <td>NaN</td>\n",
              "      <td>9.22</td>\n",
              "    </tr>\n",
              "    <tr>\n",
              "      <th>2006</th>\n",
              "      <td>21.44</td>\n",
              "      <td>NaN</td>\n",
              "      <td>51.79</td>\n",
              "    </tr>\n",
              "    <tr>\n",
              "      <th>2007</th>\n",
              "      <td>73.19</td>\n",
              "      <td>NaN</td>\n",
              "      <td>95.41</td>\n",
              "    </tr>\n",
              "    <tr>\n",
              "      <th>2008</th>\n",
              "      <td>118.79</td>\n",
              "      <td>NaN</td>\n",
              "      <td>136.07</td>\n",
              "    </tr>\n",
              "    <tr>\n",
              "      <th>2009</th>\n",
              "      <td>130.93</td>\n",
              "      <td>NaN</td>\n",
              "      <td>120.82</td>\n",
              "    </tr>\n",
              "    <tr>\n",
              "      <th>2010</th>\n",
              "      <td>142.96</td>\n",
              "      <td>NaN</td>\n",
              "      <td>170.55</td>\n",
              "    </tr>\n",
              "    <tr>\n",
              "      <th>2011</th>\n",
              "      <td>157.98</td>\n",
              "      <td>NaN</td>\n",
              "      <td>145.23</td>\n",
              "    </tr>\n",
              "    <tr>\n",
              "      <th>2012</th>\n",
              "      <td>108.28</td>\n",
              "      <td>NaN</td>\n",
              "      <td>100.72</td>\n",
              "    </tr>\n",
              "    <tr>\n",
              "      <th>2013</th>\n",
              "      <td>113.25</td>\n",
              "      <td>25.99</td>\n",
              "      <td>88.58</td>\n",
              "    </tr>\n",
              "    <tr>\n",
              "      <th>2014</th>\n",
              "      <td>47.76</td>\n",
              "      <td>100.00</td>\n",
              "      <td>34.74</td>\n",
              "    </tr>\n",
              "    <tr>\n",
              "      <th>2015</th>\n",
              "      <td>16.82</td>\n",
              "      <td>118.90</td>\n",
              "      <td>11.96</td>\n",
              "    </tr>\n",
              "    <tr>\n",
              "      <th>2016</th>\n",
              "      <td>3.60</td>\n",
              "      <td>69.25</td>\n",
              "      <td>1.52</td>\n",
              "    </tr>\n",
              "  </tbody>\n",
              "</table>\n",
              "</div>"
            ],
            "text/plain": [
              "                total_sales                \n",
              "platform                PS3     PS4    X360\n",
              "year_of_release                            \n",
              "2005                   0.19     NaN    9.22\n",
              "2006                  21.44     NaN   51.79\n",
              "2007                  73.19     NaN   95.41\n",
              "2008                 118.79     NaN  136.07\n",
              "2009                 130.93     NaN  120.82\n",
              "2010                 142.96     NaN  170.55\n",
              "2011                 157.98     NaN  145.23\n",
              "2012                 108.28     NaN  100.72\n",
              "2013                 113.25   25.99   88.58\n",
              "2014                  47.76  100.00   34.74\n",
              "2015                  16.82  118.90   11.96\n",
              "2016                   3.60   69.25    1.52"
            ]
          },
          "execution_count": 40,
          "metadata": {},
          "output_type": "execute_result"
        }
      ],
      "source": [
        "game_platf3"
      ]
    },
    {
      "cell_type": "code",
      "execution_count": null,
      "metadata": {
        "id": "dT2SMjChTc1s",
        "outputId": "dad3485d-0ae2-4c1d-c5db-b90fa3e5680b"
      },
      "outputs": [
        {
          "data": {
            "image/png": "[encoded data removed]",
            "text/plain": [
              "<Figure size 1440x720 with 1 Axes>"
            ]
          },
          "metadata": {
            "needs_background": "light"
          },
          "output_type": "display_data"
        }
      ],
      "source": [
        "game_platf3.plot(kind='bar', figsize=(20,10), grid = True)\n",
        "plt.title(\"Ventas totales por año para cada plataforma\")\n",
        "plt.show()"
      ]
    },
    {
      "cell_type": "markdown",
      "metadata": {
        "id": "TttJ6nkiTc1s"
      },
      "source": [
        "Según los gráficos realizados se tienen las siguientes conclusiones con respecto a su popularidad:\n",
        "- DS: Plataforma que apareció con ventas en sus videojuegos a partir del año 2004, tuvo un pico de popularidad en el año 2007 y 2008, sus ventas fueron bajando hasta desaparecer en el año 2013.\n",
        "- GBA: Plataforma que apareció con ventas en sus videojuegos a partir del año 2000, tuvo un pico de popularidad en el año 2002 y 2004, sus ventas fueron bajando hasta desaparecer en el año 2007.\n",
        "- PS: Plataforma que apareció con ventas en sus videojuegos a partir del año 1994, tuvo un pico de popularidad en el año 1998, sus ventas fueron bajando hasta desaparecer en el año 2003.\n",
        "- PS2: Plataforma que apareció con ventas en sus videojuegos a partir del año 2000, tuvo un pico de popularidad en el año 2002 y 2004, sus ventas fueron bajando hasta desaparecer en el año 2011.\n",
        "- PS3: Plataforma que apareció con ventas en sus videojuegos a partir del año 2005, tuvo un pico de popularidad en el año 2011, sus ventas han bajado y los últimos datos que se tiene al año 2016, es tener ventas por 3.60.\n",
        "- Wii: Plataforma que apareció con ventas en sus videojuegos a partir del año 2006, tuvo un pico de popularidad en el año 2009, sus ventas han bajado y los últimos datos que se tiene al año 2016, es tener ventas por 0.18.\n",
        "- X360: Plataforma que apareció con ventas en sus videojuegos a partir del año 2005, tuvo un pico de popularidad en el año 2010, sus ventas han bajado y los últimos datos que se tiene al año 2016, es tener ventas por 1.52.\n",
        "- PS4: Plataforma que apareció con ventas en sus videojuegos a partir del año 2013, tuvo un pico de popularidad en el año 2015, sus ventas han bajado y los últimos datos que se tiene al año 2016, es tener ventas por 69.25.\n",
        "\n",
        "En promedio las consolas tienen un tiempo de duración de 10 años. Desde que apareció la primera consola PS, se demoraron 6 años en sacar nuevas consolas y desde ahí, el tiempo que se demoran en sacar nuevas consolas ha ido disminuyendo. El PS, PS2 y PS3, se han demorado en sacar sus consolas 5 años aprox. cada una, a excepción del PS4, que se demoraron 8 años en sacarlo desde que salió el PS3."
      ]
    },
    {
      "cell_type": "code",
      "execution_count": null,
      "metadata": {
        "id": "hkWSL-8mTc1s",
        "outputId": "012363d7-4224-4add-e4d5-21ee2be53b07"
      },
      "outputs": [
        {
          "data": {
            "image/png": "[encoded data removed]",
            "text/plain": [
              "<Figure size 1440x720 with 1 Axes>"
            ]
          },
          "metadata": {
            "needs_background": "light"
          },
          "output_type": "display_data"
        }
      ],
      "source": [
        "game_platf3.plot(kind='box', figsize=(20,10), grid = True)\n",
        "plt.show()"
      ]
    },
    {
      "cell_type": "markdown",
      "metadata": {
        "id": "0ioqVEq_Tc1s"
      },
      "source": [
        "El periodo que se va a tomar datos va a ser 2011 - 2016, porque en el año 2011, las consolas X360 y PS3 han tenido su pico en ventas, según el diagrama de \"game_platf3\" y PS4 está recién empezando a tener éxito con el lanzamiento de sus videojuegos"
      ]
    },
    {
      "cell_type": "markdown",
      "metadata": {
        "id": "qmvm32zFTc1s"
      },
      "source": [
        "Las consolas que han tenido un mayor éxito en ventas y que todavia se encuentran activas con ventas son X360, PS3 y PS4, quiénes han tenido un buen éxito en ventas a partir de su lanzamiento y un paulatino descenso en sus ventas debido al tiempo que llevan en el mercado. PS4 está empezado con su ventas porque apenas lleva 4 años desde su lanzamiento."
      ]
    },
    {
      "cell_type": "markdown",
      "metadata": {
        "id": "MEl8L4OSTc1s"
      },
      "source": [
        "## Juegos"
      ]
    },
    {
      "cell_type": "code",
      "execution_count": null,
      "metadata": {
        "id": "WNbq16eLTc1s",
        "outputId": "6cbfd55e-091d-4cd0-de20-94e49767c542"
      },
      "outputs": [
        {
          "data": {
            "text/html": [
              "<div>\n",
              "<style scoped>\n",
              "    .dataframe tbody tr th:only-of-type {\n",
              "        vertical-align: middle;\n",
              "    }\n",
              "\n",
              "    .dataframe tbody tr th {\n",
              "        vertical-align: top;\n",
              "    }\n",
              "\n",
              "    .dataframe thead th {\n",
              "        text-align: right;\n",
              "    }\n",
              "</style>\n",
              "<table border=\"1\" class=\"dataframe\">\n",
              "  <thead>\n",
              "    <tr style=\"text-align: right;\">\n",
              "      <th></th>\n",
              "      <th></th>\n",
              "      <th>total_sales</th>\n",
              "    </tr>\n",
              "    <tr>\n",
              "      <th>platform</th>\n",
              "      <th>year_of_release</th>\n",
              "      <th></th>\n",
              "    </tr>\n",
              "  </thead>\n",
              "  <tbody>\n",
              "    <tr>\n",
              "      <th>PS3</th>\n",
              "      <th>2011</th>\n",
              "      <td>157.98</td>\n",
              "    </tr>\n",
              "    <tr>\n",
              "      <th>X360</th>\n",
              "      <th>2011</th>\n",
              "      <td>145.23</td>\n",
              "    </tr>\n",
              "    <tr>\n",
              "      <th>PS4</th>\n",
              "      <th>2015</th>\n",
              "      <td>118.90</td>\n",
              "    </tr>\n",
              "    <tr>\n",
              "      <th rowspan=\"2\" valign=\"top\">PS3</th>\n",
              "      <th>2013</th>\n",
              "      <td>113.25</td>\n",
              "    </tr>\n",
              "    <tr>\n",
              "      <th>2012</th>\n",
              "      <td>108.28</td>\n",
              "    </tr>\n",
              "  </tbody>\n",
              "</table>\n",
              "</div>"
            ],
            "text/plain": [
              "                          total_sales\n",
              "platform year_of_release             \n",
              "PS3      2011                  157.98\n",
              "X360     2011                  145.23\n",
              "PS4      2015                  118.90\n",
              "PS3      2013                  113.25\n",
              "         2012                  108.28"
            ]
          },
          "execution_count": 43,
          "metadata": {},
          "output_type": "execute_result"
        }
      ],
      "source": [
        "game_platf4 = game.pivot_table(index=['platform','year_of_release'], values = ['total_sales'], aggfunc='sum').sort_values(by='total_sales', ascending=False)\n",
        "game_platf4 = game_platf4.query('year_of_release >= 2011')\n",
        "game_platf4.head()"
      ]
    },
    {
      "cell_type": "code",
      "execution_count": null,
      "metadata": {
        "id": "J9zjEpY7Tc1s",
        "outputId": "fae020df-f0d5-4604-eabd-1cd28a1d40a9"
      },
      "outputs": [
        {
          "data": {
            "image/png": "[encoded data removed]",
            "text/plain": [
              "<Figure size 1440x720 with 1 Axes>"
            ]
          },
          "metadata": {
            "needs_background": "light"
          },
          "output_type": "display_data"
        }
      ],
      "source": [
        "game_platf4.boxplot(by='platform', figsize=(20,10))\n",
        "plt.ylim(0,160)\n",
        "plt.show()"
      ]
    },
    {
      "cell_type": "markdown",
      "metadata": {
        "id": "19WvAz9xTc1s"
      },
      "source": [
        "Como se observa en el gráfico, a partir del año 2011, la plataforma con mayor cantidad de ventas es PS3, seguida de X360, PS4, 3DS, los datos son bastante significativos, porque se evidencia que esas plataformas lideran el mercado hasta el año 2016"
      ]
    },
    {
      "cell_type": "markdown",
      "metadata": {
        "id": "slO3aPd6Tc1t"
      },
      "source": [
        "## Correlación para Critic y User Score"
      ]
    },
    {
      "cell_type": "markdown",
      "metadata": {
        "id": "359uJtiPTc1t"
      },
      "source": [
        "Se realiza la matriz de correlación entre critic_score, user_score y total_sales para determinar la correlación entre estas columnas. La consola elegida para realizar este análisis es el X360"
      ]
    },
    {
      "cell_type": "code",
      "execution_count": null,
      "metadata": {
        "id": "WlAQggy8Tc1t",
        "outputId": "a812bb40-5151-47a3-df6c-802ab5c3718c"
      },
      "outputs": [
        {
          "data": {
            "text/html": [
              "<div>\n",
              "<style scoped>\n",
              "    .dataframe tbody tr th:only-of-type {\n",
              "        vertical-align: middle;\n",
              "    }\n",
              "\n",
              "    .dataframe tbody tr th {\n",
              "        vertical-align: top;\n",
              "    }\n",
              "\n",
              "    .dataframe thead th {\n",
              "        text-align: right;\n",
              "    }\n",
              "</style>\n",
              "<table border=\"1\" class=\"dataframe\">\n",
              "  <thead>\n",
              "    <tr style=\"text-align: right;\">\n",
              "      <th></th>\n",
              "      <th>name</th>\n",
              "      <th>platform</th>\n",
              "      <th>year_of_release</th>\n",
              "      <th>genre</th>\n",
              "      <th>na_sales</th>\n",
              "      <th>eu_sales</th>\n",
              "      <th>jp_sales</th>\n",
              "      <th>other_sales</th>\n",
              "      <th>critic_score</th>\n",
              "      <th>user_score</th>\n",
              "      <th>rating</th>\n",
              "      <th>total_sales</th>\n",
              "    </tr>\n",
              "  </thead>\n",
              "  <tbody>\n",
              "    <tr>\n",
              "      <th>23</th>\n",
              "      <td>Grand Theft Auto V</td>\n",
              "      <td>X360</td>\n",
              "      <td>2013</td>\n",
              "      <td>Action</td>\n",
              "      <td>9.66</td>\n",
              "      <td>5.14</td>\n",
              "      <td>0.06</td>\n",
              "      <td>1.41</td>\n",
              "      <td>97.0</td>\n",
              "      <td>8.1</td>\n",
              "      <td>M</td>\n",
              "      <td>16.27</td>\n",
              "    </tr>\n",
              "    <tr>\n",
              "      <th>29</th>\n",
              "      <td>Call of Duty: Modern Warfare 3</td>\n",
              "      <td>X360</td>\n",
              "      <td>2011</td>\n",
              "      <td>Shooter</td>\n",
              "      <td>9.04</td>\n",
              "      <td>4.24</td>\n",
              "      <td>0.13</td>\n",
              "      <td>1.32</td>\n",
              "      <td>88.0</td>\n",
              "      <td>3.4</td>\n",
              "      <td>M</td>\n",
              "      <td>14.73</td>\n",
              "    </tr>\n",
              "    <tr>\n",
              "      <th>35</th>\n",
              "      <td>Call of Duty: Black Ops II</td>\n",
              "      <td>X360</td>\n",
              "      <td>2012</td>\n",
              "      <td>Shooter</td>\n",
              "      <td>8.25</td>\n",
              "      <td>4.24</td>\n",
              "      <td>0.07</td>\n",
              "      <td>1.12</td>\n",
              "      <td>83.0</td>\n",
              "      <td>4.8</td>\n",
              "      <td>M</td>\n",
              "      <td>13.68</td>\n",
              "    </tr>\n",
              "    <tr>\n",
              "      <th>60</th>\n",
              "      <td>Call of Duty: Ghosts</td>\n",
              "      <td>X360</td>\n",
              "      <td>2013</td>\n",
              "      <td>Shooter</td>\n",
              "      <td>6.73</td>\n",
              "      <td>2.56</td>\n",
              "      <td>0.04</td>\n",
              "      <td>0.91</td>\n",
              "      <td>73.0</td>\n",
              "      <td>2.6</td>\n",
              "      <td>M</td>\n",
              "      <td>10.24</td>\n",
              "    </tr>\n",
              "    <tr>\n",
              "      <th>66</th>\n",
              "      <td>Halo 4</td>\n",
              "      <td>X360</td>\n",
              "      <td>2012</td>\n",
              "      <td>Shooter</td>\n",
              "      <td>6.65</td>\n",
              "      <td>2.28</td>\n",
              "      <td>0.04</td>\n",
              "      <td>0.74</td>\n",
              "      <td>87.0</td>\n",
              "      <td>7.0</td>\n",
              "      <td>M</td>\n",
              "      <td>9.71</td>\n",
              "    </tr>\n",
              "    <tr>\n",
              "      <th>...</th>\n",
              "      <td>...</td>\n",
              "      <td>...</td>\n",
              "      <td>...</td>\n",
              "      <td>...</td>\n",
              "      <td>...</td>\n",
              "      <td>...</td>\n",
              "      <td>...</td>\n",
              "      <td>...</td>\n",
              "      <td>...</td>\n",
              "      <td>...</td>\n",
              "      <td>...</td>\n",
              "      <td>...</td>\n",
              "    </tr>\n",
              "    <tr>\n",
              "      <th>16385</th>\n",
              "      <td>Bullet Soul: Tama Tamashii</td>\n",
              "      <td>X360</td>\n",
              "      <td>2011</td>\n",
              "      <td>Shooter</td>\n",
              "      <td>0.00</td>\n",
              "      <td>0.00</td>\n",
              "      <td>0.01</td>\n",
              "      <td>0.00</td>\n",
              "      <td>NaN</td>\n",
              "      <td>NaN</td>\n",
              "      <td>M</td>\n",
              "      <td>0.01</td>\n",
              "    </tr>\n",
              "    <tr>\n",
              "      <th>16421</th>\n",
              "      <td>DoDonPachi Daifukkatsu: Black Label</td>\n",
              "      <td>X360</td>\n",
              "      <td>2011</td>\n",
              "      <td>Shooter</td>\n",
              "      <td>0.00</td>\n",
              "      <td>0.00</td>\n",
              "      <td>0.01</td>\n",
              "      <td>0.00</td>\n",
              "      <td>NaN</td>\n",
              "      <td>NaN</td>\n",
              "      <td>M</td>\n",
              "      <td>0.01</td>\n",
              "    </tr>\n",
              "    <tr>\n",
              "      <th>16458</th>\n",
              "      <td>Dragon Ball Z for Kinect</td>\n",
              "      <td>X360</td>\n",
              "      <td>2012</td>\n",
              "      <td>Fighting</td>\n",
              "      <td>0.01</td>\n",
              "      <td>0.00</td>\n",
              "      <td>0.00</td>\n",
              "      <td>0.00</td>\n",
              "      <td>49.0</td>\n",
              "      <td>2.1</td>\n",
              "      <td>T</td>\n",
              "      <td>0.01</td>\n",
              "    </tr>\n",
              "    <tr>\n",
              "      <th>16492</th>\n",
              "      <td>Metal Gear Solid HD Edition</td>\n",
              "      <td>X360</td>\n",
              "      <td>2011</td>\n",
              "      <td>Action</td>\n",
              "      <td>0.00</td>\n",
              "      <td>0.00</td>\n",
              "      <td>0.01</td>\n",
              "      <td>0.00</td>\n",
              "      <td>NaN</td>\n",
              "      <td>NaN</td>\n",
              "      <td>M</td>\n",
              "      <td>0.01</td>\n",
              "    </tr>\n",
              "    <tr>\n",
              "      <th>16499</th>\n",
              "      <td>Ben 10 Omniverse 2</td>\n",
              "      <td>X360</td>\n",
              "      <td>2013</td>\n",
              "      <td>Action</td>\n",
              "      <td>0.00</td>\n",
              "      <td>0.01</td>\n",
              "      <td>0.00</td>\n",
              "      <td>0.00</td>\n",
              "      <td>NaN</td>\n",
              "      <td>5.1</td>\n",
              "      <td>E10+</td>\n",
              "      <td>0.01</td>\n",
              "    </tr>\n",
              "  </tbody>\n",
              "</table>\n",
              "<p>506 rows × 12 columns</p>\n",
              "</div>"
            ],
            "text/plain": [
              "                                      name platform  year_of_release  \\\n",
              "23                      Grand Theft Auto V     X360             2013   \n",
              "29          Call of Duty: Modern Warfare 3     X360             2011   \n",
              "35              Call of Duty: Black Ops II     X360             2012   \n",
              "60                    Call of Duty: Ghosts     X360             2013   \n",
              "66                                  Halo 4     X360             2012   \n",
              "...                                    ...      ...              ...   \n",
              "16385           Bullet Soul: Tama Tamashii     X360             2011   \n",
              "16421  DoDonPachi Daifukkatsu: Black Label     X360             2011   \n",
              "16458             Dragon Ball Z for Kinect     X360             2012   \n",
              "16492          Metal Gear Solid HD Edition     X360             2011   \n",
              "16499                   Ben 10 Omniverse 2     X360             2013   \n",
              "\n",
              "          genre  na_sales  eu_sales  jp_sales  other_sales  critic_score  \\\n",
              "23       Action      9.66      5.14      0.06         1.41          97.0   \n",
              "29      Shooter      9.04      4.24      0.13         1.32          88.0   \n",
              "35      Shooter      8.25      4.24      0.07         1.12          83.0   \n",
              "60      Shooter      6.73      2.56      0.04         0.91          73.0   \n",
              "66      Shooter      6.65      2.28      0.04         0.74          87.0   \n",
              "...         ...       ...       ...       ...          ...           ...   \n",
              "16385   Shooter      0.00      0.00      0.01         0.00           NaN   \n",
              "16421   Shooter      0.00      0.00      0.01         0.00           NaN   \n",
              "16458  Fighting      0.01      0.00      0.00         0.00          49.0   \n",
              "16492    Action      0.00      0.00      0.01         0.00           NaN   \n",
              "16499    Action      0.00      0.01      0.00         0.00           NaN   \n",
              "\n",
              "       user_score rating  total_sales  \n",
              "23            8.1      M        16.27  \n",
              "29            3.4      M        14.73  \n",
              "35            4.8      M        13.68  \n",
              "60            2.6      M        10.24  \n",
              "66            7.0      M         9.71  \n",
              "...           ...    ...          ...  \n",
              "16385         NaN      M         0.01  \n",
              "16421         NaN      M         0.01  \n",
              "16458         2.1      T         0.01  \n",
              "16492         NaN      M         0.01  \n",
              "16499         5.1   E10+         0.01  \n",
              "\n",
              "[506 rows x 12 columns]"
            ]
          },
          "execution_count": 45,
          "metadata": {},
          "output_type": "execute_result"
        }
      ],
      "source": [
        "#Todos los juegos que pertenecen a la plataforma X360\n",
        "game_x360=game.query('platform == \"X360\" and year_of_release >= 2011')\n",
        "game_x360"
      ]
    },
    {
      "cell_type": "code",
      "execution_count": null,
      "metadata": {
        "id": "UScxrkDFTc1t",
        "outputId": "f62d8fe4-efbd-40d9-eb4e-cf8039792573"
      },
      "outputs": [
        {
          "name": "stdout",
          "output_type": "stream",
          "text": [
            "              critic_score  total_sales  user_score\n",
            "critic_score      1.000000     0.390195    0.567372\n",
            "total_sales       0.390195     1.000000    0.039041\n",
            "user_score        0.567372     0.039041    1.000000\n"
          ]
        },
        {
          "data": {
            "image/png": "[encoded data removed]",
            "text/plain": [
              "<Figure size 1080x720 with 9 Axes>"
            ]
          },
          "metadata": {
            "needs_background": "light"
          },
          "output_type": "display_data"
        }
      ],
      "source": [
        "#Matriz de correlación\n",
        "game_x360_multi = game_x360.pivot_table(index='name', values=['critic_score', 'user_score', 'total_sales'])\n",
        "print(game_x360_multi.corr())\n",
        "pd.plotting.scatter_matrix(game_x360_multi, figsize=(15,10))\n",
        "plt.show()"
      ]
    },
    {
      "cell_type": "markdown",
      "metadata": {
        "id": "vn3vBPLmTc1t"
      },
      "source": [
        "La correlación entre critic_score y total_sales es positiva, aunque débil (0.39), lo que sugiere que en general, los juegos con mejores puntuaciones de los profesionales tienden a venderse mejor, pero la relación no es muy fuerte.\n",
        "La correlación entre critic_score y user_score es moderada (0.56), lo que indica que hay cierta relación entre las calificaciones de los críticos y las calificaciones de los usuarios.\n",
        "Finalmente, la correlación entre total_sales y user_score es muy débil (0.039), lo que sugiere que no hay una relación clara entre las ventas totales y las calificaciones de los usuarios.\n",
        "En general, estos datos sugieren que la variable critic_score tiene la correlación más fuerte con las otras dos variables."
      ]
    },
    {
      "cell_type": "markdown",
      "metadata": {
        "id": "_nNK5_qdTc1t"
      },
      "source": [
        "### Relación entre los juegos de X360 y otras plataformas."
      ]
    },
    {
      "cell_type": "markdown",
      "metadata": {
        "id": "2JwFtl5vTc1t"
      },
      "source": [
        "Lo primero que se va a realizar es filtrar los datos, en los que solo tengamos las columnas de interés, las cuales son: name, platform y total_sales. Se va a separar en 2 variables diferentes, los juegos que pertenecen a X360 y los juegos que pertenecen a X360 que también las podemos encontrar en otras plataformas."
      ]
    },
    {
      "cell_type": "code",
      "execution_count": null,
      "metadata": {
        "id": "LY73ZPenTc1t"
      },
      "outputs": [],
      "source": [
        "game1 = game[['name', 'platform', 'total_sales','year_of_release']]\n",
        "game_x3601 = game_x360[['name','platform', 'total_sales','year_of_release']]"
      ]
    },
    {
      "cell_type": "code",
      "execution_count": null,
      "metadata": {
        "id": "pgO7sbgATc1t"
      },
      "outputs": [],
      "source": [
        "game_plat_x360 = pd.merge(game1, game_x3601, on='name')\n",
        "game_plat_x360 = game_plat_x360.drop(['platform_y','total_sales_y'], axis=1)\n",
        "game_plat_x360 = game_plat_x360.rename(columns={'platform_x': \"platform\",'total_sales_x': \"total_sales\"})"
      ]
    },
    {
      "cell_type": "code",
      "execution_count": null,
      "metadata": {
        "id": "DdSb1TsfTc1t",
        "outputId": "9bdeb642-e300-46db-d1ff-a0762e8027e9"
      },
      "outputs": [
        {
          "data": {
            "image/png": "[encoded data removed]",
            "text/plain": [
              "<Figure size 1440x720 with 1 Axes>"
            ]
          },
          "metadata": {
            "needs_background": "light"
          },
          "output_type": "display_data"
        }
      ],
      "source": [
        "#Los juegos de X360 que también los encontramos en otras plataformas\n",
        "game_plat_x360 = game_plat_x360.query('platform != \"X360\"')\n",
        "game_plat_x360 = game_plat_x360.groupby('platform')['total_sales'].mean().sort_values(ascending=False)\n",
        "game_plat_x360.plot(kind='bar', figsize=(20,10), grid = True)\n",
        "plt.title(\"Ventas totales por plataforma de juegos para X360\")\n",
        "plt.show()"
      ]
    },
    {
      "cell_type": "code",
      "execution_count": null,
      "metadata": {
        "id": "J1okJKnjTc1t",
        "outputId": "0f0bf411-7945-47d8-b8c0-423edcb8fbe7"
      },
      "outputs": [
        {
          "data": {
            "text/plain": [
              "total_sales    0.756423\n",
              "dtype: float64"
            ]
          },
          "execution_count": 50,
          "metadata": {},
          "output_type": "execute_result"
        }
      ],
      "source": [
        "#Los juegos de X360\n",
        "game_plat_x3601 = game_x3601.pivot_table(index='name', values='total_sales', aggfunc='sum')\n",
        "game_plat_x3601.mean()"
      ]
    },
    {
      "cell_type": "markdown",
      "metadata": {
        "id": "8j7kj2G1Tc1t"
      },
      "source": [
        "El promedio de ventas para los juegos de X360 es de 0.76, y hay 6 de 18 consolas que tienen ingresos superiores por esos mismos juegos. De las cuales, la gran mayoria son consolas antiguas, entonces según la gráfica se puede observar que son juegos remasterizados por parte de X360, los cuales primero aparecieron en otras paltaformas y después se sacaron para X360. Por lo tanto X360 no tiene tantos juegos propios que lo mantengan exitoso, sino, son versiones nuevas."
      ]
    },
    {
      "cell_type": "markdown",
      "metadata": {
        "id": "_ADCOD62Tc1t"
      },
      "source": [
        "## Géneros mas rentables"
      ]
    },
    {
      "cell_type": "markdown",
      "metadata": {
        "id": "_eRsyxRVTc1t"
      },
      "source": [
        "Se va a filtrar dos tablas, una en la que consta las ventas totales para cada género y otra que cuente el número de juegos que han salido por plataforma."
      ]
    },
    {
      "cell_type": "code",
      "execution_count": null,
      "metadata": {
        "id": "jM3k_giETc1t"
      },
      "outputs": [],
      "source": [
        "# Ventas totales para cada plataforma a partir del año 2011\n",
        "game_year = game.query('year_of_release >= 2011')\n",
        "game_genre = game_year.pivot_table(index='genre', values='total_sales', aggfunc='sum').sort_values(by='total_sales', ascending=False)"
      ]
    },
    {
      "cell_type": "code",
      "execution_count": null,
      "metadata": {
        "id": "hH39M-qxTc1t",
        "outputId": "0c159bf9-a77e-402c-b351-401ea7f5cee2"
      },
      "outputs": [
        {
          "data": {
            "image/png": "[encoded data removed]",
            "text/plain": [
              "<Figure size 1080x360 with 1 Axes>"
            ]
          },
          "metadata": {
            "needs_background": "light"
          },
          "output_type": "display_data"
        }
      ],
      "source": [
        "game_genre.plot(kind='bar', figsize=(15,5), grid = True)\n",
        "plt.title(\"Ventas totales por género\")\n",
        "plt.show()"
      ]
    },
    {
      "cell_type": "code",
      "execution_count": null,
      "metadata": {
        "id": "3Ft1feNXTc1u",
        "outputId": "94dfb38b-be31-4f6a-f82b-3eb7235b4a20"
      },
      "outputs": [
        {
          "data": {
            "text/html": [
              "<div>\n",
              "<style scoped>\n",
              "    .dataframe tbody tr th:only-of-type {\n",
              "        vertical-align: middle;\n",
              "    }\n",
              "\n",
              "    .dataframe tbody tr th {\n",
              "        vertical-align: top;\n",
              "    }\n",
              "\n",
              "    .dataframe thead th {\n",
              "        text-align: right;\n",
              "    }\n",
              "</style>\n",
              "<table border=\"1\" class=\"dataframe\">\n",
              "  <thead>\n",
              "    <tr style=\"text-align: right;\">\n",
              "      <th></th>\n",
              "      <th>total_sales</th>\n",
              "    </tr>\n",
              "  </thead>\n",
              "  <tbody>\n",
              "    <tr>\n",
              "      <th>count</th>\n",
              "      <td>12.000000</td>\n",
              "    </tr>\n",
              "    <tr>\n",
              "      <th>mean</th>\n",
              "      <td>163.526667</td>\n",
              "    </tr>\n",
              "    <tr>\n",
              "      <th>std</th>\n",
              "      <td>171.126666</td>\n",
              "    </tr>\n",
              "    <tr>\n",
              "      <th>min</th>\n",
              "      <td>9.850000</td>\n",
              "    </tr>\n",
              "    <tr>\n",
              "      <th>25%</th>\n",
              "      <td>48.955000</td>\n",
              "    </tr>\n",
              "    <tr>\n",
              "      <th>50%</th>\n",
              "      <td>88.495000</td>\n",
              "    </tr>\n",
              "    <tr>\n",
              "      <th>75%</th>\n",
              "      <td>239.457500</td>\n",
              "    </tr>\n",
              "    <tr>\n",
              "      <th>max</th>\n",
              "      <td>564.870000</td>\n",
              "    </tr>\n",
              "  </tbody>\n",
              "</table>\n",
              "</div>"
            ],
            "text/plain": [
              "       total_sales\n",
              "count    12.000000\n",
              "mean    163.526667\n",
              "std     171.126666\n",
              "min       9.850000\n",
              "25%      48.955000\n",
              "50%      88.495000\n",
              "75%     239.457500\n",
              "max     564.870000"
            ]
          },
          "execution_count": 53,
          "metadata": {},
          "output_type": "execute_result"
        }
      ],
      "source": [
        "game_genre.describe()"
      ]
    },
    {
      "cell_type": "markdown",
      "metadata": {
        "id": "PhGIDw45Tc1u"
      },
      "source": [
        "En base a la tabla mostrada arriba, se podría establecer que un producto es exitoso si ha logrado vender por encima de la media (163.52), y especialmente si ha superado el tercer cuartil (239.46). Entonces para demostrar los géneros que han sido mas exitosos, vamos a tomar como referencia aquellos géneros que han superado en ventas el tercer cuartil (961.33)."
      ]
    },
    {
      "cell_type": "code",
      "execution_count": null,
      "metadata": {
        "id": "9KfnvzaDTc1u",
        "outputId": "1e125d3c-7a15-4955-852f-e272683a5bc8"
      },
      "outputs": [
        {
          "data": {
            "text/html": [
              "<div>\n",
              "<style scoped>\n",
              "    .dataframe tbody tr th:only-of-type {\n",
              "        vertical-align: middle;\n",
              "    }\n",
              "\n",
              "    .dataframe tbody tr th {\n",
              "        vertical-align: top;\n",
              "    }\n",
              "\n",
              "    .dataframe thead th {\n",
              "        text-align: right;\n",
              "    }\n",
              "</style>\n",
              "<table border=\"1\" class=\"dataframe\">\n",
              "  <thead>\n",
              "    <tr style=\"text-align: right;\">\n",
              "      <th></th>\n",
              "      <th>total_sales</th>\n",
              "    </tr>\n",
              "    <tr>\n",
              "      <th>genre</th>\n",
              "      <th></th>\n",
              "    </tr>\n",
              "  </thead>\n",
              "  <tbody>\n",
              "    <tr>\n",
              "      <th>Action</th>\n",
              "      <td>564.87</td>\n",
              "    </tr>\n",
              "    <tr>\n",
              "      <th>Shooter</th>\n",
              "      <td>402.96</td>\n",
              "    </tr>\n",
              "    <tr>\n",
              "      <th>Role-Playing</th>\n",
              "      <td>245.63</td>\n",
              "    </tr>\n",
              "  </tbody>\n",
              "</table>\n",
              "</div>"
            ],
            "text/plain": [
              "              total_sales\n",
              "genre                    \n",
              "Action             564.87\n",
              "Shooter            402.96\n",
              "Role-Playing       245.63"
            ]
          },
          "execution_count": 54,
          "metadata": {},
          "output_type": "execute_result"
        }
      ],
      "source": [
        "game_genre.query('total_sales >= 239.46')"
      ]
    },
    {
      "cell_type": "markdown",
      "metadata": {
        "id": "6xiQjldoTc1u"
      },
      "source": [
        "Los géneros mas exitosos son Action, Shooter y Role_playing"
      ]
    },
    {
      "cell_type": "code",
      "execution_count": null,
      "metadata": {
        "id": "ebEmvSZqTc1u"
      },
      "outputs": [],
      "source": [
        "# Número de juegos por plataforma\n",
        "game_genre_count = game_year.pivot_table(index='genre', values='name', aggfunc='count').sort_values(by='name', ascending=False)"
      ]
    },
    {
      "cell_type": "code",
      "execution_count": null,
      "metadata": {
        "id": "VOlkIRnyTc1u",
        "outputId": "4aaaaadc-20cc-4a00-b2f2-aa8ca98ae6d1"
      },
      "outputs": [
        {
          "data": {
            "image/png": "[encoded data removed]",
            "text/plain": [
              "<Figure size 1080x360 with 1 Axes>"
            ]
          },
          "metadata": {
            "needs_background": "light"
          },
          "output_type": "display_data"
        }
      ],
      "source": [
        "game_genre_count.plot(kind='bar', figsize=(15,5), grid = True)\n",
        "plt.title(\"Número de videojuegos lanzados por género\")\n",
        "plt.show()"
      ]
    },
    {
      "cell_type": "code",
      "execution_count": null,
      "metadata": {
        "id": "acStr-VATc1u",
        "outputId": "53bc71c3-db00-46bb-be35-a10b9ed103b4"
      },
      "outputs": [
        {
          "data": {
            "text/html": [
              "<div>\n",
              "<style scoped>\n",
              "    .dataframe tbody tr th:only-of-type {\n",
              "        vertical-align: middle;\n",
              "    }\n",
              "\n",
              "    .dataframe tbody tr th {\n",
              "        vertical-align: top;\n",
              "    }\n",
              "\n",
              "    .dataframe thead th {\n",
              "        text-align: right;\n",
              "    }\n",
              "</style>\n",
              "<table border=\"1\" class=\"dataframe\">\n",
              "  <thead>\n",
              "    <tr style=\"text-align: right;\">\n",
              "      <th></th>\n",
              "      <th>name</th>\n",
              "    </tr>\n",
              "  </thead>\n",
              "  <tbody>\n",
              "    <tr>\n",
              "      <th>count</th>\n",
              "      <td>12.000000</td>\n",
              "    </tr>\n",
              "    <tr>\n",
              "      <th>mean</th>\n",
              "      <td>337.583333</td>\n",
              "    </tr>\n",
              "    <tr>\n",
              "      <th>std</th>\n",
              "      <td>328.750377</td>\n",
              "    </tr>\n",
              "    <tr>\n",
              "      <th>min</th>\n",
              "      <td>71.000000</td>\n",
              "    </tr>\n",
              "    <tr>\n",
              "      <th>25%</th>\n",
              "      <td>132.500000</td>\n",
              "    </tr>\n",
              "    <tr>\n",
              "      <th>50%</th>\n",
              "      <td>256.000000</td>\n",
              "    </tr>\n",
              "    <tr>\n",
              "      <th>75%</th>\n",
              "      <td>395.000000</td>\n",
              "    </tr>\n",
              "    <tr>\n",
              "      <th>max</th>\n",
              "      <td>1286.000000</td>\n",
              "    </tr>\n",
              "  </tbody>\n",
              "</table>\n",
              "</div>"
            ],
            "text/plain": [
              "              name\n",
              "count    12.000000\n",
              "mean    337.583333\n",
              "std     328.750377\n",
              "min      71.000000\n",
              "25%     132.500000\n",
              "50%     256.000000\n",
              "75%     395.000000\n",
              "max    1286.000000"
            ]
          },
          "execution_count": 57,
          "metadata": {},
          "output_type": "execute_result"
        }
      ],
      "source": [
        "game_genre_count.describe()"
      ]
    },
    {
      "cell_type": "markdown",
      "metadata": {
        "id": "ftQEH_EwTc1u"
      },
      "source": [
        "Para demostrar los géneros que han tenido mayor número de videojuegos sacados, vamos a tomar como referencia aquellos que han superado su número al tercer cuartil (395)."
      ]
    },
    {
      "cell_type": "code",
      "execution_count": null,
      "metadata": {
        "id": "6c0HV3VtTc1u",
        "outputId": "337be889-ffad-4c89-9420-ace0a8d9b4af"
      },
      "outputs": [
        {
          "data": {
            "text/html": [
              "<div>\n",
              "<style scoped>\n",
              "    .dataframe tbody tr th:only-of-type {\n",
              "        vertical-align: middle;\n",
              "    }\n",
              "\n",
              "    .dataframe tbody tr th {\n",
              "        vertical-align: top;\n",
              "    }\n",
              "\n",
              "    .dataframe thead th {\n",
              "        text-align: right;\n",
              "    }\n",
              "</style>\n",
              "<table border=\"1\" class=\"dataframe\">\n",
              "  <thead>\n",
              "    <tr style=\"text-align: right;\">\n",
              "      <th></th>\n",
              "      <th>name</th>\n",
              "    </tr>\n",
              "    <tr>\n",
              "      <th>genre</th>\n",
              "      <th></th>\n",
              "    </tr>\n",
              "  </thead>\n",
              "  <tbody>\n",
              "    <tr>\n",
              "      <th>Action</th>\n",
              "      <td>1286</td>\n",
              "    </tr>\n",
              "    <tr>\n",
              "      <th>Role-Playing</th>\n",
              "      <td>465</td>\n",
              "    </tr>\n",
              "    <tr>\n",
              "      <th>Adventure</th>\n",
              "      <td>410</td>\n",
              "    </tr>\n",
              "  </tbody>\n",
              "</table>\n",
              "</div>"
            ],
            "text/plain": [
              "              name\n",
              "genre             \n",
              "Action        1286\n",
              "Role-Playing   465\n",
              "Adventure      410"
            ]
          },
          "execution_count": 58,
          "metadata": {},
          "output_type": "execute_result"
        }
      ],
      "source": [
        "game_genre_count.query('name >= 395')"
      ]
    },
    {
      "cell_type": "markdown",
      "metadata": {
        "id": "dJgOk6ihTc1u"
      },
      "source": [
        "Los géneros con una mayor cantidad de videojuegos son Action, Role_playing y Adventure.\n",
        "De esta forma podemos encontrar una similitud entre aquellos videojuegos que han sido mas rentables por la parte de ventas y por la parte de videojuegos sacados. Aquellos que comparten esta similitud son Action y Role_playing, quiénes han sido mas éxitosos. Y quiénes no han sido exitosos tanto en ventas como en número de videojuegos sacados son: Puzzle y Strategy."
      ]
    },
    {
      "cell_type": "markdown",
      "metadata": {
        "id": "CVHv26Y1Tc1u"
      },
      "source": [
        "## Perfil de usuario"
      ]
    },
    {
      "cell_type": "markdown",
      "metadata": {
        "id": "1l15gr-1Tc1u"
      },
      "source": [
        "Para realizar este análisis, se tomará en cuenta el periodo de interés de 5 años (2011 - 2016) para realizar las predicciones del año 2017."
      ]
    },
    {
      "cell_type": "markdown",
      "metadata": {
        "id": "mQCeuKGkTc1u"
      },
      "source": [
        "### NA"
      ]
    },
    {
      "cell_type": "code",
      "execution_count": null,
      "metadata": {
        "id": "hLGclcmaTc1u",
        "outputId": "4936b89a-62bc-4329-e15b-17ed98a6f8c4"
      },
      "outputs": [
        {
          "data": {
            "text/html": [
              "<div>\n",
              "<style scoped>\n",
              "    .dataframe tbody tr th:only-of-type {\n",
              "        vertical-align: middle;\n",
              "    }\n",
              "\n",
              "    .dataframe tbody tr th {\n",
              "        vertical-align: top;\n",
              "    }\n",
              "\n",
              "    .dataframe thead th {\n",
              "        text-align: right;\n",
              "    }\n",
              "</style>\n",
              "<table border=\"1\" class=\"dataframe\">\n",
              "  <thead>\n",
              "    <tr style=\"text-align: right;\">\n",
              "      <th></th>\n",
              "      <th>name</th>\n",
              "      <th>platform</th>\n",
              "      <th>year_of_release</th>\n",
              "      <th>genre</th>\n",
              "      <th>na_sales</th>\n",
              "      <th>rating</th>\n",
              "    </tr>\n",
              "  </thead>\n",
              "  <tbody>\n",
              "    <tr>\n",
              "      <th>16</th>\n",
              "      <td>Grand Theft Auto V</td>\n",
              "      <td>PS3</td>\n",
              "      <td>2013</td>\n",
              "      <td>Action</td>\n",
              "      <td>7.02</td>\n",
              "      <td>M</td>\n",
              "    </tr>\n",
              "    <tr>\n",
              "      <th>23</th>\n",
              "      <td>Grand Theft Auto V</td>\n",
              "      <td>X360</td>\n",
              "      <td>2013</td>\n",
              "      <td>Action</td>\n",
              "      <td>9.66</td>\n",
              "      <td>M</td>\n",
              "    </tr>\n",
              "    <tr>\n",
              "      <th>29</th>\n",
              "      <td>Call of Duty: Modern Warfare 3</td>\n",
              "      <td>X360</td>\n",
              "      <td>2011</td>\n",
              "      <td>Shooter</td>\n",
              "      <td>9.04</td>\n",
              "      <td>M</td>\n",
              "    </tr>\n",
              "    <tr>\n",
              "      <th>31</th>\n",
              "      <td>Call of Duty: Black Ops 3</td>\n",
              "      <td>PS4</td>\n",
              "      <td>2015</td>\n",
              "      <td>Shooter</td>\n",
              "      <td>6.03</td>\n",
              "      <td>M</td>\n",
              "    </tr>\n",
              "    <tr>\n",
              "      <th>33</th>\n",
              "      <td>Pokemon X/Pokemon Y</td>\n",
              "      <td>3DS</td>\n",
              "      <td>2013</td>\n",
              "      <td>Role-Playing</td>\n",
              "      <td>5.28</td>\n",
              "      <td>T</td>\n",
              "    </tr>\n",
              "    <tr>\n",
              "      <th>...</th>\n",
              "      <td>...</td>\n",
              "      <td>...</td>\n",
              "      <td>...</td>\n",
              "      <td>...</td>\n",
              "      <td>...</td>\n",
              "      <td>...</td>\n",
              "    </tr>\n",
              "    <tr>\n",
              "      <th>16548</th>\n",
              "      <td>Strawberry Nauts</td>\n",
              "      <td>PSV</td>\n",
              "      <td>2016</td>\n",
              "      <td>Adventure</td>\n",
              "      <td>0.00</td>\n",
              "      <td>E</td>\n",
              "    </tr>\n",
              "    <tr>\n",
              "      <th>16552</th>\n",
              "      <td>Aiyoku no Eustia</td>\n",
              "      <td>PSV</td>\n",
              "      <td>2014</td>\n",
              "      <td>Misc</td>\n",
              "      <td>0.00</td>\n",
              "      <td>E</td>\n",
              "    </tr>\n",
              "    <tr>\n",
              "      <th>16555</th>\n",
              "      <td>Samurai Warriors: Sanada Maru</td>\n",
              "      <td>PS3</td>\n",
              "      <td>2016</td>\n",
              "      <td>Action</td>\n",
              "      <td>0.00</td>\n",
              "      <td>T</td>\n",
              "    </tr>\n",
              "    <tr>\n",
              "      <th>16557</th>\n",
              "      <td>Haitaka no Psychedelica</td>\n",
              "      <td>PSV</td>\n",
              "      <td>2016</td>\n",
              "      <td>Adventure</td>\n",
              "      <td>0.00</td>\n",
              "      <td>E</td>\n",
              "    </tr>\n",
              "    <tr>\n",
              "      <th>16559</th>\n",
              "      <td>Winning Post 8 2016</td>\n",
              "      <td>PSV</td>\n",
              "      <td>2016</td>\n",
              "      <td>Simulation</td>\n",
              "      <td>0.00</td>\n",
              "      <td>E</td>\n",
              "    </tr>\n",
              "  </tbody>\n",
              "</table>\n",
              "<p>4051 rows × 6 columns</p>\n",
              "</div>"
            ],
            "text/plain": [
              "                                 name platform  year_of_release         genre  \\\n",
              "16                 Grand Theft Auto V      PS3             2013        Action   \n",
              "23                 Grand Theft Auto V     X360             2013        Action   \n",
              "29     Call of Duty: Modern Warfare 3     X360             2011       Shooter   \n",
              "31          Call of Duty: Black Ops 3      PS4             2015       Shooter   \n",
              "33                Pokemon X/Pokemon Y      3DS             2013  Role-Playing   \n",
              "...                               ...      ...              ...           ...   \n",
              "16548                Strawberry Nauts      PSV             2016     Adventure   \n",
              "16552                Aiyoku no Eustia      PSV             2014          Misc   \n",
              "16555   Samurai Warriors: Sanada Maru      PS3             2016        Action   \n",
              "16557         Haitaka no Psychedelica      PSV             2016     Adventure   \n",
              "16559             Winning Post 8 2016      PSV             2016    Simulation   \n",
              "\n",
              "       na_sales rating  \n",
              "16         7.02      M  \n",
              "23         9.66      M  \n",
              "29         9.04      M  \n",
              "31         6.03      M  \n",
              "33         5.28      T  \n",
              "...         ...    ...  \n",
              "16548      0.00      E  \n",
              "16552      0.00      E  \n",
              "16555      0.00      T  \n",
              "16557      0.00      E  \n",
              "16559      0.00      E  \n",
              "\n",
              "[4051 rows x 6 columns]"
            ]
          },
          "execution_count": 59,
          "metadata": {},
          "output_type": "execute_result"
        }
      ],
      "source": [
        "game_na = game[['name', 'platform', 'year_of_release', 'genre', 'na_sales', 'rating',]].query('year_of_release >= 2011')\n",
        "game_na"
      ]
    },
    {
      "cell_type": "code",
      "execution_count": null,
      "metadata": {
        "id": "-NUDGXCBTc1u",
        "outputId": "8903ed42-83e7-4f89-85ee-6e5fa71eb850"
      },
      "outputs": [
        {
          "data": {
            "image/png": "[encoded data removed]",
            "text/plain": [
              "<Figure size 1080x360 with 1 Axes>"
            ]
          },
          "metadata": {
            "needs_background": "light"
          },
          "output_type": "display_data"
        }
      ],
      "source": [
        "(game_na\n",
        ".pivot_table(index='platform', values='na_sales', aggfunc='sum').sort_values(by='na_sales', ascending=False)\n",
        ".plot(kind='bar', figsize=(15,5), grid = True)\n",
        ")\n",
        "plt.title(\"Ventas por plataforma para la región NA\")\n",
        "plt.show()\n"
      ]
    },
    {
      "cell_type": "markdown",
      "metadata": {
        "id": "uMUis0okTc1v"
      },
      "source": [
        "Las 5 plataformas principales con respecto a las ventas son: X360, PS3, PS4, XOne y 3DS"
      ]
    },
    {
      "cell_type": "code",
      "execution_count": null,
      "metadata": {
        "id": "FSf2gq5aTc1v",
        "outputId": "6e553a33-7e9e-4433-a3f9-c1f8fb010b54"
      },
      "outputs": [
        {
          "data": {
            "text/html": [
              "<div>\n",
              "<style scoped>\n",
              "    .dataframe tbody tr th:only-of-type {\n",
              "        vertical-align: middle;\n",
              "    }\n",
              "\n",
              "    .dataframe tbody tr th {\n",
              "        vertical-align: top;\n",
              "    }\n",
              "\n",
              "    .dataframe thead th {\n",
              "        text-align: right;\n",
              "    }\n",
              "</style>\n",
              "<table border=\"1\" class=\"dataframe\">\n",
              "  <thead>\n",
              "    <tr style=\"text-align: right;\">\n",
              "      <th></th>\n",
              "      <th>year_of_release</th>\n",
              "      <th>na_sales</th>\n",
              "    </tr>\n",
              "  </thead>\n",
              "  <tbody>\n",
              "    <tr>\n",
              "      <th>count</th>\n",
              "      <td>4051.000000</td>\n",
              "      <td>4051.000000</td>\n",
              "    </tr>\n",
              "    <tr>\n",
              "      <th>mean</th>\n",
              "      <td>2013.081708</td>\n",
              "      <td>0.205759</td>\n",
              "    </tr>\n",
              "    <tr>\n",
              "      <th>std</th>\n",
              "      <td>1.775690</td>\n",
              "      <td>0.568637</td>\n",
              "    </tr>\n",
              "    <tr>\n",
              "      <th>min</th>\n",
              "      <td>2011.000000</td>\n",
              "      <td>0.000000</td>\n",
              "    </tr>\n",
              "    <tr>\n",
              "      <th>25%</th>\n",
              "      <td>2011.000000</td>\n",
              "      <td>0.000000</td>\n",
              "    </tr>\n",
              "    <tr>\n",
              "      <th>50%</th>\n",
              "      <td>2013.000000</td>\n",
              "      <td>0.040000</td>\n",
              "    </tr>\n",
              "    <tr>\n",
              "      <th>75%</th>\n",
              "      <td>2015.000000</td>\n",
              "      <td>0.170000</td>\n",
              "    </tr>\n",
              "    <tr>\n",
              "      <th>max</th>\n",
              "      <td>2016.000000</td>\n",
              "      <td>9.660000</td>\n",
              "    </tr>\n",
              "  </tbody>\n",
              "</table>\n",
              "</div>"
            ],
            "text/plain": [
              "       year_of_release     na_sales\n",
              "count      4051.000000  4051.000000\n",
              "mean       2013.081708     0.205759\n",
              "std           1.775690     0.568637\n",
              "min        2011.000000     0.000000\n",
              "25%        2011.000000     0.000000\n",
              "50%        2013.000000     0.040000\n",
              "75%        2015.000000     0.170000\n",
              "max        2016.000000     9.660000"
            ]
          },
          "execution_count": 61,
          "metadata": {},
          "output_type": "execute_result"
        }
      ],
      "source": [
        "game_na.describe()"
      ]
    },
    {
      "cell_type": "markdown",
      "metadata": {
        "id": "kAdTaboJTc1v"
      },
      "source": [
        "Para la región NA en ventas, la media de es igual a 0.21. Los datos están relativamente agrupados y no hay mucha variabilidad en el conjunto de datos, por tal motivo su desviación estandar es igual a 0.56."
      ]
    },
    {
      "cell_type": "code",
      "execution_count": null,
      "metadata": {
        "id": "jI7_W7e7Tc1v",
        "outputId": "ddd65024-2399-4aeb-f539-b5608ff0eee4"
      },
      "outputs": [
        {
          "data": {
            "image/png": "[encoded data removed]",
            "text/plain": [
              "<Figure size 1080x360 with 1 Axes>"
            ]
          },
          "metadata": {
            "needs_background": "light"
          },
          "output_type": "display_data"
        }
      ],
      "source": [
        "(game_na\n",
        ".pivot_table(index='genre', values='na_sales', aggfunc='sum').sort_values(by='na_sales', ascending=False)\n",
        ".plot(kind='bar', figsize=(15,5), grid = True)\n",
        ")\n",
        "plt.title(\"Ventas por género para la región NA\")\n",
        "plt.show()\n"
      ]
    },
    {
      "cell_type": "markdown",
      "metadata": {
        "id": "iS295VFWTc1v"
      },
      "source": [
        "Los 5 géneros principales con respecto a las ventas son: Action, Shooter, Sports, Role_playing y Misc. La principal diferencia entre estos géneros radica en la mecánica de juego y en la temática. Mientras que los juegos de acción y Shooter se centran en la lucha y el combate, los géneros Role_playing y Misc son un género de habilidad donde el jugador controla un personaje que debe avanzar a través de un escenario superando diversos obstáculos. Los juegos de deportes, como su nombre indica, se centran en los deportes, y el objetivo principal es ganar el partido o la competición."
      ]
    },
    {
      "cell_type": "code",
      "execution_count": null,
      "metadata": {
        "id": "vh5z1732Tc1v",
        "outputId": "53c2da91-d288-4d5b-c3a7-88ae5f9384b2"
      },
      "outputs": [
        {
          "data": {
            "text/plain": [
              "genre         rating\n",
              "Shooter       M         168.36\n",
              "Action        M         107.52\n",
              "Sports        E          90.39\n",
              "Action        T          60.89\n",
              "              E10+       50.06\n",
              "Role-Playing  T          41.91\n",
              "              M          36.54\n",
              "Misc          E10+       32.24\n",
              "Platform      E          28.62\n",
              "Misc          E          28.60\n",
              "Racing        E          24.47\n",
              "Fighting      T          22.70\n",
              "Shooter       T          18.87\n",
              "Action        E          15.46\n",
              "Simulation    E          10.60\n",
              "Sports        E10+        9.73\n",
              "Platform      E10+        9.31\n",
              "Sports        T           8.58\n",
              "Misc          T           8.17\n",
              "Fighting      M           8.07\n",
              "Shooter       E10+        7.20\n",
              "Adventure     M           6.85\n",
              "              E           6.00\n",
              "Racing        E10+        3.89\n",
              "Simulation    T           3.73\n",
              "Racing        T           3.51\n",
              "Role-Playing  E           2.80\n",
              "Strategy      T           2.75\n",
              "Role-Playing  E10+        2.53\n",
              "Puzzle        E           2.25\n",
              "Strategy      E10+        2.05\n",
              "              E           1.88\n",
              "Adventure     E10+        1.11\n",
              "Strategy      M           1.00\n",
              "Fighting      E10+        0.86\n",
              "Adventure     T           0.80\n",
              "Misc          M           0.80\n",
              "Simulation    E10+        0.69\n",
              "Action        EC          0.42\n",
              "Simulation    M           0.35\n",
              "Platform      T           0.35\n",
              "Puzzle        E10+        0.28\n",
              "              T           0.21\n",
              "Racing        M           0.11\n",
              "Shooter       E           0.02\n",
              "Strategy      RP          0.00\n",
              "Name: na_sales, dtype: float64"
            ]
          },
          "execution_count": 63,
          "metadata": {},
          "output_type": "execute_result"
        }
      ],
      "source": [
        "# La clasificación de ESRB afecta a las ventas?\n",
        "game_na.groupby(['genre','rating'])['na_sales'].sum().sort_values(ascending=False)"
      ]
    },
    {
      "cell_type": "markdown",
      "metadata": {
        "id": "67PFBNrxTc1v"
      },
      "source": [
        "Para los principales géneros si afectan las ventas la clasificación, porque como se observa en la tabla anterior, las categorias mas fuertes como M(Mature 17+), estan la gran mayoria al fondo de la tabla con bajas ventas, mientras que la mayoria de juegos con clasificación E(everyone) y T(teen), se encuetran al principio de la tabla. Pero, también hay videojuegos que por su naturaleza tienen una clasificación M, y se encuentran al principio de la tabla como los Shooter y Action."
      ]
    },
    {
      "cell_type": "markdown",
      "metadata": {
        "id": "x5vaWWIETc1v"
      },
      "source": [
        "### UE"
      ]
    },
    {
      "cell_type": "code",
      "execution_count": null,
      "metadata": {
        "id": "6P_pIiH1Tc1v",
        "outputId": "83418cb9-2ea6-4585-9e87-828c567f66d2"
      },
      "outputs": [
        {
          "data": {
            "text/html": [
              "<div>\n",
              "<style scoped>\n",
              "    .dataframe tbody tr th:only-of-type {\n",
              "        vertical-align: middle;\n",
              "    }\n",
              "\n",
              "    .dataframe tbody tr th {\n",
              "        vertical-align: top;\n",
              "    }\n",
              "\n",
              "    .dataframe thead th {\n",
              "        text-align: right;\n",
              "    }\n",
              "</style>\n",
              "<table border=\"1\" class=\"dataframe\">\n",
              "  <thead>\n",
              "    <tr style=\"text-align: right;\">\n",
              "      <th></th>\n",
              "      <th>name</th>\n",
              "      <th>platform</th>\n",
              "      <th>year_of_release</th>\n",
              "      <th>genre</th>\n",
              "      <th>eu_sales</th>\n",
              "      <th>rating</th>\n",
              "    </tr>\n",
              "  </thead>\n",
              "  <tbody>\n",
              "    <tr>\n",
              "      <th>16</th>\n",
              "      <td>Grand Theft Auto V</td>\n",
              "      <td>PS3</td>\n",
              "      <td>2013</td>\n",
              "      <td>Action</td>\n",
              "      <td>9.09</td>\n",
              "      <td>M</td>\n",
              "    </tr>\n",
              "    <tr>\n",
              "      <th>23</th>\n",
              "      <td>Grand Theft Auto V</td>\n",
              "      <td>X360</td>\n",
              "      <td>2013</td>\n",
              "      <td>Action</td>\n",
              "      <td>5.14</td>\n",
              "      <td>M</td>\n",
              "    </tr>\n",
              "    <tr>\n",
              "      <th>29</th>\n",
              "      <td>Call of Duty: Modern Warfare 3</td>\n",
              "      <td>X360</td>\n",
              "      <td>2011</td>\n",
              "      <td>Shooter</td>\n",
              "      <td>4.24</td>\n",
              "      <td>M</td>\n",
              "    </tr>\n",
              "    <tr>\n",
              "      <th>31</th>\n",
              "      <td>Call of Duty: Black Ops 3</td>\n",
              "      <td>PS4</td>\n",
              "      <td>2015</td>\n",
              "      <td>Shooter</td>\n",
              "      <td>5.86</td>\n",
              "      <td>M</td>\n",
              "    </tr>\n",
              "    <tr>\n",
              "      <th>33</th>\n",
              "      <td>Pokemon X/Pokemon Y</td>\n",
              "      <td>3DS</td>\n",
              "      <td>2013</td>\n",
              "      <td>Role-Playing</td>\n",
              "      <td>4.19</td>\n",
              "      <td>T</td>\n",
              "    </tr>\n",
              "    <tr>\n",
              "      <th>...</th>\n",
              "      <td>...</td>\n",
              "      <td>...</td>\n",
              "      <td>...</td>\n",
              "      <td>...</td>\n",
              "      <td>...</td>\n",
              "      <td>...</td>\n",
              "    </tr>\n",
              "    <tr>\n",
              "      <th>16548</th>\n",
              "      <td>Strawberry Nauts</td>\n",
              "      <td>PSV</td>\n",
              "      <td>2016</td>\n",
              "      <td>Adventure</td>\n",
              "      <td>0.00</td>\n",
              "      <td>E</td>\n",
              "    </tr>\n",
              "    <tr>\n",
              "      <th>16552</th>\n",
              "      <td>Aiyoku no Eustia</td>\n",
              "      <td>PSV</td>\n",
              "      <td>2014</td>\n",
              "      <td>Misc</td>\n",
              "      <td>0.00</td>\n",
              "      <td>E</td>\n",
              "    </tr>\n",
              "    <tr>\n",
              "      <th>16555</th>\n",
              "      <td>Samurai Warriors: Sanada Maru</td>\n",
              "      <td>PS3</td>\n",
              "      <td>2016</td>\n",
              "      <td>Action</td>\n",
              "      <td>0.00</td>\n",
              "      <td>T</td>\n",
              "    </tr>\n",
              "    <tr>\n",
              "      <th>16557</th>\n",
              "      <td>Haitaka no Psychedelica</td>\n",
              "      <td>PSV</td>\n",
              "      <td>2016</td>\n",
              "      <td>Adventure</td>\n",
              "      <td>0.00</td>\n",
              "      <td>E</td>\n",
              "    </tr>\n",
              "    <tr>\n",
              "      <th>16559</th>\n",
              "      <td>Winning Post 8 2016</td>\n",
              "      <td>PSV</td>\n",
              "      <td>2016</td>\n",
              "      <td>Simulation</td>\n",
              "      <td>0.00</td>\n",
              "      <td>E</td>\n",
              "    </tr>\n",
              "  </tbody>\n",
              "</table>\n",
              "<p>4051 rows × 6 columns</p>\n",
              "</div>"
            ],
            "text/plain": [
              "                                 name platform  year_of_release         genre  \\\n",
              "16                 Grand Theft Auto V      PS3             2013        Action   \n",
              "23                 Grand Theft Auto V     X360             2013        Action   \n",
              "29     Call of Duty: Modern Warfare 3     X360             2011       Shooter   \n",
              "31          Call of Duty: Black Ops 3      PS4             2015       Shooter   \n",
              "33                Pokemon X/Pokemon Y      3DS             2013  Role-Playing   \n",
              "...                               ...      ...              ...           ...   \n",
              "16548                Strawberry Nauts      PSV             2016     Adventure   \n",
              "16552                Aiyoku no Eustia      PSV             2014          Misc   \n",
              "16555   Samurai Warriors: Sanada Maru      PS3             2016        Action   \n",
              "16557         Haitaka no Psychedelica      PSV             2016     Adventure   \n",
              "16559             Winning Post 8 2016      PSV             2016    Simulation   \n",
              "\n",
              "       eu_sales rating  \n",
              "16         9.09      M  \n",
              "23         5.14      M  \n",
              "29         4.24      M  \n",
              "31         5.86      M  \n",
              "33         4.19      T  \n",
              "...         ...    ...  \n",
              "16548      0.00      E  \n",
              "16552      0.00      E  \n",
              "16555      0.00      T  \n",
              "16557      0.00      E  \n",
              "16559      0.00      E  \n",
              "\n",
              "[4051 rows x 6 columns]"
            ]
          },
          "execution_count": 64,
          "metadata": {},
          "output_type": "execute_result"
        }
      ],
      "source": [
        "game_ue = game[['name', 'platform','year_of_release','genre', 'eu_sales', 'rating']].query('year_of_release >= 2011')\n",
        "#game_ue = game.query('year_of_release >= 2011')\n",
        "game_ue"
      ]
    },
    {
      "cell_type": "code",
      "execution_count": null,
      "metadata": {
        "id": "Uc-eKy-LTc1v",
        "outputId": "db872e94-618b-4ac1-8923-f8feb2203d76"
      },
      "outputs": [
        {
          "data": {
            "image/png": "[encoded data removed]",
            "text/plain": [
              "<Figure size 1080x360 with 1 Axes>"
            ]
          },
          "metadata": {
            "needs_background": "light"
          },
          "output_type": "display_data"
        }
      ],
      "source": [
        "(game_ue\n",
        ".pivot_table(index='platform', values='eu_sales', aggfunc='sum').sort_values(by='eu_sales', ascending=False)\n",
        ".plot(kind='bar', figsize=(15,5), grid = True)\n",
        ")\n",
        "plt.title(\"Ventas por plataforma para la región UE\")\n",
        "plt.show()"
      ]
    },
    {
      "cell_type": "markdown",
      "metadata": {
        "id": "hSMTfHrzTc1v"
      },
      "source": [
        "Las 5 plataformas principales con respecto a las ventas son: PS3, PS4, X360, 3DS y PC"
      ]
    },
    {
      "cell_type": "code",
      "execution_count": null,
      "metadata": {
        "id": "sc1jH_DNTc1w",
        "outputId": "27bc698f-3823-4a63-eb93-966d63b849da"
      },
      "outputs": [
        {
          "data": {
            "text/html": [
              "<div>\n",
              "<style scoped>\n",
              "    .dataframe tbody tr th:only-of-type {\n",
              "        vertical-align: middle;\n",
              "    }\n",
              "\n",
              "    .dataframe tbody tr th {\n",
              "        vertical-align: top;\n",
              "    }\n",
              "\n",
              "    .dataframe thead th {\n",
              "        text-align: right;\n",
              "    }\n",
              "</style>\n",
              "<table border=\"1\" class=\"dataframe\">\n",
              "  <thead>\n",
              "    <tr style=\"text-align: right;\">\n",
              "      <th></th>\n",
              "      <th>year_of_release</th>\n",
              "      <th>eu_sales</th>\n",
              "    </tr>\n",
              "  </thead>\n",
              "  <tbody>\n",
              "    <tr>\n",
              "      <th>count</th>\n",
              "      <td>4051.000000</td>\n",
              "      <td>4051.000000</td>\n",
              "    </tr>\n",
              "    <tr>\n",
              "      <th>mean</th>\n",
              "      <td>2013.081708</td>\n",
              "      <td>0.166139</td>\n",
              "    </tr>\n",
              "    <tr>\n",
              "      <th>std</th>\n",
              "      <td>1.775690</td>\n",
              "      <td>0.481300</td>\n",
              "    </tr>\n",
              "    <tr>\n",
              "      <th>min</th>\n",
              "      <td>2011.000000</td>\n",
              "      <td>0.000000</td>\n",
              "    </tr>\n",
              "    <tr>\n",
              "      <th>25%</th>\n",
              "      <td>2011.000000</td>\n",
              "      <td>0.000000</td>\n",
              "    </tr>\n",
              "    <tr>\n",
              "      <th>50%</th>\n",
              "      <td>2013.000000</td>\n",
              "      <td>0.030000</td>\n",
              "    </tr>\n",
              "    <tr>\n",
              "      <th>75%</th>\n",
              "      <td>2015.000000</td>\n",
              "      <td>0.130000</td>\n",
              "    </tr>\n",
              "    <tr>\n",
              "      <th>max</th>\n",
              "      <td>2016.000000</td>\n",
              "      <td>9.090000</td>\n",
              "    </tr>\n",
              "  </tbody>\n",
              "</table>\n",
              "</div>"
            ],
            "text/plain": [
              "       year_of_release     eu_sales\n",
              "count      4051.000000  4051.000000\n",
              "mean       2013.081708     0.166139\n",
              "std           1.775690     0.481300\n",
              "min        2011.000000     0.000000\n",
              "25%        2011.000000     0.000000\n",
              "50%        2013.000000     0.030000\n",
              "75%        2015.000000     0.130000\n",
              "max        2016.000000     9.090000"
            ]
          },
          "execution_count": 66,
          "metadata": {},
          "output_type": "execute_result"
        }
      ],
      "source": [
        "game_ue.describe()"
      ]
    },
    {
      "cell_type": "markdown",
      "metadata": {
        "id": "opN0db7BTc1w"
      },
      "source": [
        "Para la región UE en ventas, la media de es igual a 0.16. Los datos están relativamente agrupados y no hay mucha variabilidad en el conjunto de datos, por tal motivo su desviación estandar es igual a 0.48."
      ]
    },
    {
      "cell_type": "code",
      "execution_count": null,
      "metadata": {
        "id": "Gve4syYzTc1w",
        "outputId": "0727e468-11ed-4b13-92dc-eff71edc2f81"
      },
      "outputs": [
        {
          "data": {
            "image/png": "[encoded data removed]",
            "text/plain": [
              "<Figure size 1080x360 with 1 Axes>"
            ]
          },
          "metadata": {
            "needs_background": "light"
          },
          "output_type": "display_data"
        }
      ],
      "source": [
        "(game_ue\n",
        ".pivot_table(index='genre', values='eu_sales', aggfunc='sum').sort_values(by='eu_sales', ascending=False)\n",
        ".plot(kind='bar', figsize=(15,5), grid = True)\n",
        ")\n",
        "plt.title(\"Ventas por género para la región UE\")\n",
        "plt.show()\n"
      ]
    },
    {
      "cell_type": "markdown",
      "metadata": {
        "id": "egJnX1f3Tc1w"
      },
      "source": [
        "Los 5 géneros principales con respecto a las ventas son: Action, Shooter, Sports, Role_playing y Racing.\n",
        "La principal diferencia entre estos géneros radica en la mecánica de juego y en la temática. Mientras que los juegos de acción y Shooter se centran en la lucha y el combate, el género Role_playing es un género de habilidad donde el jugador controla un personaje que debe avanzar a través de un escenario superando diversos obstáculos. Los juegos de Sports y Racing, como su nombre indica, se centran en los deportes y carreras de autos, y el objetivo principal es ganar el partido o la competición."
      ]
    },
    {
      "cell_type": "code",
      "execution_count": null,
      "metadata": {
        "id": "Woo0s16VTc1w",
        "outputId": "4d22a101-16a6-4a6a-f9b7-3a6bedadae6d"
      },
      "outputs": [
        {
          "data": {
            "text/plain": [
              "genre         rating\n",
              "Shooter       M         129.55\n",
              "Action        M          96.54\n",
              "Sports        E          79.32\n",
              "Action        T          48.48\n",
              "              E10+       37.70\n",
              "Role-Playing  M          31.24\n",
              "Racing        E          30.02\n",
              "Role-Playing  T          28.37\n",
              "Platform      E          21.60\n",
              "Misc          E          20.56\n",
              "Action        E          19.20\n",
              "Misc          E10+       15.69\n",
              "Simulation    E          13.97\n",
              "Shooter       T          13.47\n",
              "Fighting      T          12.74\n",
              "Platform      E10+        8.12\n",
              "Adventure     M           6.49\n",
              "Sports        T           6.39\n",
              "Racing        T           6.01\n",
              "Adventure     E           5.49\n",
              "Shooter       E10+        5.03\n",
              "Strategy      T           4.76\n",
              "Simulation    T           4.74\n",
              "Racing        E10+        4.49\n",
              "Fighting      M           3.10\n",
              "Misc          T           3.09\n",
              "Sports        E10+        2.96\n",
              "Puzzle        E           2.70\n",
              "Role-Playing  E10+        1.45\n",
              "Adventure     E10+        1.38\n",
              "Role-Playing  E           1.24\n",
              "Strategy      E10+        1.17\n",
              "              M           1.14\n",
              "              E           1.04\n",
              "Simulation    E10+        0.91\n",
              "Adventure     T           0.60\n",
              "Puzzle        E10+        0.58\n",
              "Misc          M           0.48\n",
              "Fighting      E10+        0.40\n",
              "Platform      T           0.35\n",
              "Puzzle        T           0.28\n",
              "Simulation    M           0.10\n",
              "Racing        M           0.06\n",
              "Strategy      RP          0.03\n",
              "Action        EC          0.00\n",
              "Shooter       E           0.00\n",
              "Name: eu_sales, dtype: float64"
            ]
          },
          "execution_count": 68,
          "metadata": {},
          "output_type": "execute_result"
        }
      ],
      "source": [
        "# La clasificación de ESRB afecta a las ventas?\n",
        "game_ue.groupby(['genre','rating'])['eu_sales'].sum().sort_values(ascending=False)"
      ]
    },
    {
      "cell_type": "markdown",
      "metadata": {
        "id": "VNDycZHWTc1w"
      },
      "source": [
        "Para los principales géneros si afectan las ventas la clasificación, porque como se observa en la tabla anterior, las categorias mas fuertes como M(Mature 17+), estan la gran mayoria a la mitad y al fondo de la tabla con ventas intermedia, mientras que la mayoria de juegos con clasificación E(everyone) y T(teen), se encuetran al principio de la tabla. Al igual de videojuegos que por su naturaleza tienen una clasificación M, y se encuentran al principio de la tabla como los Shooter y Action."
      ]
    },
    {
      "cell_type": "markdown",
      "metadata": {
        "id": "gPpC_oOtTc1w"
      },
      "source": [
        "### JP"
      ]
    },
    {
      "cell_type": "code",
      "execution_count": null,
      "metadata": {
        "id": "_gyP8gT6Tc1w",
        "outputId": "7561d2b3-d6f1-48a1-e91d-588ce8c288d4"
      },
      "outputs": [
        {
          "data": {
            "text/html": [
              "<div>\n",
              "<style scoped>\n",
              "    .dataframe tbody tr th:only-of-type {\n",
              "        vertical-align: middle;\n",
              "    }\n",
              "\n",
              "    .dataframe tbody tr th {\n",
              "        vertical-align: top;\n",
              "    }\n",
              "\n",
              "    .dataframe thead th {\n",
              "        text-align: right;\n",
              "    }\n",
              "</style>\n",
              "<table border=\"1\" class=\"dataframe\">\n",
              "  <thead>\n",
              "    <tr style=\"text-align: right;\">\n",
              "      <th></th>\n",
              "      <th>name</th>\n",
              "      <th>platform</th>\n",
              "      <th>year_of_release</th>\n",
              "      <th>genre</th>\n",
              "      <th>jp_sales</th>\n",
              "      <th>rating</th>\n",
              "    </tr>\n",
              "  </thead>\n",
              "  <tbody>\n",
              "    <tr>\n",
              "      <th>16</th>\n",
              "      <td>Grand Theft Auto V</td>\n",
              "      <td>PS3</td>\n",
              "      <td>2013</td>\n",
              "      <td>Action</td>\n",
              "      <td>0.98</td>\n",
              "      <td>M</td>\n",
              "    </tr>\n",
              "    <tr>\n",
              "      <th>23</th>\n",
              "      <td>Grand Theft Auto V</td>\n",
              "      <td>X360</td>\n",
              "      <td>2013</td>\n",
              "      <td>Action</td>\n",
              "      <td>0.06</td>\n",
              "      <td>M</td>\n",
              "    </tr>\n",
              "    <tr>\n",
              "      <th>29</th>\n",
              "      <td>Call of Duty: Modern Warfare 3</td>\n",
              "      <td>X360</td>\n",
              "      <td>2011</td>\n",
              "      <td>Shooter</td>\n",
              "      <td>0.13</td>\n",
              "      <td>M</td>\n",
              "    </tr>\n",
              "    <tr>\n",
              "      <th>31</th>\n",
              "      <td>Call of Duty: Black Ops 3</td>\n",
              "      <td>PS4</td>\n",
              "      <td>2015</td>\n",
              "      <td>Shooter</td>\n",
              "      <td>0.36</td>\n",
              "      <td>M</td>\n",
              "    </tr>\n",
              "    <tr>\n",
              "      <th>33</th>\n",
              "      <td>Pokemon X/Pokemon Y</td>\n",
              "      <td>3DS</td>\n",
              "      <td>2013</td>\n",
              "      <td>Role-Playing</td>\n",
              "      <td>4.35</td>\n",
              "      <td>T</td>\n",
              "    </tr>\n",
              "    <tr>\n",
              "      <th>...</th>\n",
              "      <td>...</td>\n",
              "      <td>...</td>\n",
              "      <td>...</td>\n",
              "      <td>...</td>\n",
              "      <td>...</td>\n",
              "      <td>...</td>\n",
              "    </tr>\n",
              "    <tr>\n",
              "      <th>16548</th>\n",
              "      <td>Strawberry Nauts</td>\n",
              "      <td>PSV</td>\n",
              "      <td>2016</td>\n",
              "      <td>Adventure</td>\n",
              "      <td>0.01</td>\n",
              "      <td>E</td>\n",
              "    </tr>\n",
              "    <tr>\n",
              "      <th>16552</th>\n",
              "      <td>Aiyoku no Eustia</td>\n",
              "      <td>PSV</td>\n",
              "      <td>2014</td>\n",
              "      <td>Misc</td>\n",
              "      <td>0.01</td>\n",
              "      <td>E</td>\n",
              "    </tr>\n",
              "    <tr>\n",
              "      <th>16555</th>\n",
              "      <td>Samurai Warriors: Sanada Maru</td>\n",
              "      <td>PS3</td>\n",
              "      <td>2016</td>\n",
              "      <td>Action</td>\n",
              "      <td>0.01</td>\n",
              "      <td>T</td>\n",
              "    </tr>\n",
              "    <tr>\n",
              "      <th>16557</th>\n",
              "      <td>Haitaka no Psychedelica</td>\n",
              "      <td>PSV</td>\n",
              "      <td>2016</td>\n",
              "      <td>Adventure</td>\n",
              "      <td>0.01</td>\n",
              "      <td>E</td>\n",
              "    </tr>\n",
              "    <tr>\n",
              "      <th>16559</th>\n",
              "      <td>Winning Post 8 2016</td>\n",
              "      <td>PSV</td>\n",
              "      <td>2016</td>\n",
              "      <td>Simulation</td>\n",
              "      <td>0.01</td>\n",
              "      <td>E</td>\n",
              "    </tr>\n",
              "  </tbody>\n",
              "</table>\n",
              "<p>4051 rows × 6 columns</p>\n",
              "</div>"
            ],
            "text/plain": [
              "                                 name platform  year_of_release         genre  \\\n",
              "16                 Grand Theft Auto V      PS3             2013        Action   \n",
              "23                 Grand Theft Auto V     X360             2013        Action   \n",
              "29     Call of Duty: Modern Warfare 3     X360             2011       Shooter   \n",
              "31          Call of Duty: Black Ops 3      PS4             2015       Shooter   \n",
              "33                Pokemon X/Pokemon Y      3DS             2013  Role-Playing   \n",
              "...                               ...      ...              ...           ...   \n",
              "16548                Strawberry Nauts      PSV             2016     Adventure   \n",
              "16552                Aiyoku no Eustia      PSV             2014          Misc   \n",
              "16555   Samurai Warriors: Sanada Maru      PS3             2016        Action   \n",
              "16557         Haitaka no Psychedelica      PSV             2016     Adventure   \n",
              "16559             Winning Post 8 2016      PSV             2016    Simulation   \n",
              "\n",
              "       jp_sales rating  \n",
              "16         0.98      M  \n",
              "23         0.06      M  \n",
              "29         0.13      M  \n",
              "31         0.36      M  \n",
              "33         4.35      T  \n",
              "...         ...    ...  \n",
              "16548      0.01      E  \n",
              "16552      0.01      E  \n",
              "16555      0.01      T  \n",
              "16557      0.01      E  \n",
              "16559      0.01      E  \n",
              "\n",
              "[4051 rows x 6 columns]"
            ]
          },
          "execution_count": 69,
          "metadata": {},
          "output_type": "execute_result"
        }
      ],
      "source": [
        "game_jp = game[['name', 'platform','year_of_release','genre', 'jp_sales', 'rating']].query('year_of_release >= 2011')\n",
        "#game_jp = game.query('year_of_release >= 2011')\n",
        "game_jp"
      ]
    },
    {
      "cell_type": "code",
      "execution_count": null,
      "metadata": {
        "id": "ayOTFM1kTc1w",
        "outputId": "20fb8916-04c7-4116-cd21-12f01fa6c307"
      },
      "outputs": [
        {
          "data": {
            "image/png": "[encoded data removed]",
            "text/plain": [
              "<Figure size 1080x360 with 1 Axes>"
            ]
          },
          "metadata": {
            "needs_background": "light"
          },
          "output_type": "display_data"
        }
      ],
      "source": [
        "(game_jp\n",
        ".pivot_table(index='platform', values='jp_sales', aggfunc='sum').sort_values(by='jp_sales', ascending=False)\n",
        ".plot(kind='bar', figsize=(15,5), grid = True)\n",
        ")\n",
        "plt.title(\"Ventas por plataforma para la región JP\")\n",
        "plt.show()\n"
      ]
    },
    {
      "cell_type": "markdown",
      "metadata": {
        "id": "XTLyO8XtTc1w"
      },
      "source": [
        "Las 5 plataformas principales con respecto a las ventas son: 3DS, PS3, PSP, PSV y PS4"
      ]
    },
    {
      "cell_type": "code",
      "execution_count": null,
      "metadata": {
        "id": "CH4m877GTc1w",
        "outputId": "20383f4e-d937-4270-e031-7d4a462bfdaf"
      },
      "outputs": [
        {
          "data": {
            "text/html": [
              "<div>\n",
              "<style scoped>\n",
              "    .dataframe tbody tr th:only-of-type {\n",
              "        vertical-align: middle;\n",
              "    }\n",
              "\n",
              "    .dataframe tbody tr th {\n",
              "        vertical-align: top;\n",
              "    }\n",
              "\n",
              "    .dataframe thead th {\n",
              "        text-align: right;\n",
              "    }\n",
              "</style>\n",
              "<table border=\"1\" class=\"dataframe\">\n",
              "  <thead>\n",
              "    <tr style=\"text-align: right;\">\n",
              "      <th></th>\n",
              "      <th>year_of_release</th>\n",
              "      <th>jp_sales</th>\n",
              "    </tr>\n",
              "  </thead>\n",
              "  <tbody>\n",
              "    <tr>\n",
              "      <th>count</th>\n",
              "      <td>4051.000000</td>\n",
              "      <td>4051.000000</td>\n",
              "    </tr>\n",
              "    <tr>\n",
              "      <th>mean</th>\n",
              "      <td>2013.081708</td>\n",
              "      <td>0.060704</td>\n",
              "    </tr>\n",
              "    <tr>\n",
              "      <th>std</th>\n",
              "      <td>1.775690</td>\n",
              "      <td>0.219533</td>\n",
              "    </tr>\n",
              "    <tr>\n",
              "      <th>min</th>\n",
              "      <td>2011.000000</td>\n",
              "      <td>0.000000</td>\n",
              "    </tr>\n",
              "    <tr>\n",
              "      <th>25%</th>\n",
              "      <td>2011.000000</td>\n",
              "      <td>0.000000</td>\n",
              "    </tr>\n",
              "    <tr>\n",
              "      <th>50%</th>\n",
              "      <td>2013.000000</td>\n",
              "      <td>0.000000</td>\n",
              "    </tr>\n",
              "    <tr>\n",
              "      <th>75%</th>\n",
              "      <td>2015.000000</td>\n",
              "      <td>0.050000</td>\n",
              "    </tr>\n",
              "    <tr>\n",
              "      <th>max</th>\n",
              "      <td>2016.000000</td>\n",
              "      <td>4.390000</td>\n",
              "    </tr>\n",
              "  </tbody>\n",
              "</table>\n",
              "</div>"
            ],
            "text/plain": [
              "       year_of_release     jp_sales\n",
              "count      4051.000000  4051.000000\n",
              "mean       2013.081708     0.060704\n",
              "std           1.775690     0.219533\n",
              "min        2011.000000     0.000000\n",
              "25%        2011.000000     0.000000\n",
              "50%        2013.000000     0.000000\n",
              "75%        2015.000000     0.050000\n",
              "max        2016.000000     4.390000"
            ]
          },
          "execution_count": 71,
          "metadata": {},
          "output_type": "execute_result"
        }
      ],
      "source": [
        "game_jp.describe()"
      ]
    },
    {
      "cell_type": "markdown",
      "metadata": {
        "id": "KKgVVYnHTc1w"
      },
      "source": [
        "Para la región JP en ventas, la media de es igual a 0.07. Los datos están relativamente agrupados y no hay mucha variabilidad en el conjunto de datos, por tal motivo su desviación estandar es igual a 0.31."
      ]
    },
    {
      "cell_type": "code",
      "execution_count": null,
      "metadata": {
        "id": "g6Nsn1i_Tc1x",
        "outputId": "691c985e-a9d2-4a50-8a81-aec4a270acf2"
      },
      "outputs": [
        {
          "data": {
            "image/png": "[encoded data removed]",
            "text/plain": [
              "<Figure size 1080x360 with 1 Axes>"
            ]
          },
          "metadata": {
            "needs_background": "light"
          },
          "output_type": "display_data"
        }
      ],
      "source": [
        "(game_jp\n",
        ".pivot_table(index='genre', values='jp_sales', aggfunc='sum').sort_values(by='jp_sales', ascending=False)\n",
        ".plot(kind='bar', figsize=(15,5), grid = True)\n",
        ")\n",
        "plt.title(\"Ventas por género para la región JP\")\n",
        "plt.show()\n"
      ]
    },
    {
      "cell_type": "markdown",
      "metadata": {
        "id": "tSGEmg1kTc1x"
      },
      "source": [
        "Los 5 géneros principales con respecto a las ventas son: Role_Playing, Misc, Fighting, Platform.\n",
        "La principal diferencia entre estos géneros radica en la mecánica de juego y en la temática. Mientras que los juegos de acción se centran en la lucha y el combate, los géneros Role_playing, Misc y Platform son parecidos y son un género de habilidad donde el jugador controla un personaje que debe avanzar a través de un escenario superando diversos obstáculos. Los juegos de Fighting, como su nombre indica, se centran en los deportes, y el objetivo principal es ganar el partido o la competición.\n",
        "\n"
      ]
    },
    {
      "cell_type": "code",
      "execution_count": null,
      "metadata": {
        "id": "2ysyje1aTc1x",
        "outputId": "da4c93cd-f0ac-4fec-b8c7-80e0b40db54d"
      },
      "outputs": [
        {
          "data": {
            "text/plain": [
              "genre         rating\n",
              "Role-Playing  T         70.87\n",
              "Action        T         43.94\n",
              "Misc          E         15.17\n",
              "Fighting      T         11.64\n",
              "Action        M         11.57\n",
              "Adventure     E         11.02\n",
              "Sports        E         10.99\n",
              "Platform      E         10.54\n",
              "Simulation    E         10.52\n",
              "Shooter       M          9.10\n",
              "Racing        E          5.32\n",
              "Action        E          5.22\n",
              "Role-Playing  M          4.86\n",
              "Strategy      T          4.44\n",
              "Action        E10+       2.90\n",
              "Puzzle        E          2.36\n",
              "Role-Playing  E10+       2.27\n",
              "              E          1.87\n",
              "Shooter       E10+       1.71\n",
              "Platform      E10+       1.56\n",
              "Misc          E10+       1.27\n",
              "              T          1.21\n",
              "Shooter       T          1.11\n",
              "Adventure     M          0.93\n",
              "Simulation    T          0.59\n",
              "Fighting      M          0.57\n",
              "Simulation    E10+       0.43\n",
              "Strategy      E10+       0.34\n",
              "Puzzle        T          0.30\n",
              "              E10+       0.25\n",
              "Racing        E10+       0.21\n",
              "Misc          M          0.20\n",
              "Fighting      E10+       0.17\n",
              "Racing        T          0.11\n",
              "Simulation    M          0.10\n",
              "Adventure     T          0.09\n",
              "Sports        E10+       0.09\n",
              "Adventure     E10+       0.03\n",
              "Platform      T          0.03\n",
              "Sports        T          0.01\n",
              "Racing        M          0.00\n",
              "Action        EC         0.00\n",
              "Strategy      E          0.00\n",
              "              M          0.00\n",
              "              RP         0.00\n",
              "Shooter       E          0.00\n",
              "Name: jp_sales, dtype: float64"
            ]
          },
          "execution_count": 73,
          "metadata": {},
          "output_type": "execute_result"
        }
      ],
      "source": [
        "# La clasificación de ESRB afecta a las ventas?\n",
        "game_jp.groupby(['genre','rating'])['jp_sales'].sum().sort_values(ascending=False)"
      ]
    },
    {
      "cell_type": "markdown",
      "metadata": {
        "id": "bwJO2oN6Tc1x"
      },
      "source": [
        "Para los principales géneros si afectan las ventas la clasificación, porque como se observa en la tabla anterior, las categorias mas fuertes como M(Mature 17+), estan la gran mayoria al fondo de la tabla con bajas ventas, mientras que la mayoria de juegos con clasificación E(everyone) y T(teen), se encuetran al principio de la tabla con ventas altas."
      ]
    },
    {
      "cell_type": "markdown",
      "metadata": {
        "id": "koltsJyFTc1x"
      },
      "source": [
        "### Conclusión"
      ]
    },
    {
      "cell_type": "markdown",
      "metadata": {
        "id": "P6zmQxxETc1x"
      },
      "source": [
        "La región NA y UE tienen gustos similares con respecto a la consola (X360, PS3, PS4 y 3DS), de igual forma con su género preferido (Action, Sports, Shooter, Role_playing), son un poco diferentes a la región JP, quiénes tienen gustos mas orientados a las consolas de Sony y géneros comparten gustos similares entre las 3 regiones. Los datos de las ventas están relativamente agrupados y no hay mucha variabilidad en el conjunto de datos. Entonces para el año 2017, se puede enfocar las estrategias de marketing hacia estas consolas donde comparten las 3 regiones gustos similares y de igual forma hacia estos Géneros."
      ]
    },
    {
      "cell_type": "markdown",
      "metadata": {
        "id": "ITfORe33Tc1x"
      },
      "source": [
        "## Hipótesis"
      ]
    },
    {
      "cell_type": "markdown",
      "metadata": {
        "id": "LML7FyeXTc1x"
      },
      "source": [
        "Se va a crear dos variables que contengan los datos que vamos a probar en la hipótesis:\n",
        "- Las calificaciones promedio de los usuarios para las plataformas Xbox One y PC son las mismas.\n",
        "- Las calificaciones promedio de los usuarios para los géneros de Acción y Deportes son diferentes."
      ]
    },
    {
      "cell_type": "code",
      "execution_count": null,
      "metadata": {
        "id": "5JCFDF1QTc1x"
      },
      "outputs": [],
      "source": [
        "game_xbox_pc = game[['platform','user_score']]\n",
        "xbox = game_xbox_pc.query('platform == \"XOne\"').dropna()\n",
        "xbox = xbox.drop(['platform'], axis=1)\n",
        "pc = game_xbox_pc.query('platform == \"PC\"').dropna()\n",
        "pc = pc.drop(['platform'], axis=1)"
      ]
    },
    {
      "cell_type": "code",
      "execution_count": null,
      "metadata": {
        "id": "1kT_znPPTc1x",
        "outputId": "a51a6b8a-b3be-4714-fb9d-3ba455758de1"
      },
      "outputs": [
        {
          "data": {
            "text/plain": [
              "0.2831544426559251"
            ]
          },
          "execution_count": 75,
          "metadata": {},
          "output_type": "execute_result"
        }
      ],
      "source": [
        "# Prueba de Levene centrada en la mediana\n",
        "\n",
        "xbox1 = xbox['user_score']\n",
        "pc1 = pc['user_score']\n",
        "\n",
        "stat, p = levene(xbox1, pc1, center='median')\n",
        "p"
      ]
    },
    {
      "cell_type": "markdown",
      "metadata": {
        "id": "CUMz35gdTc1x"
      },
      "source": [
        "En este caso, se usa equal_var = True"
      ]
    },
    {
      "cell_type": "code",
      "execution_count": null,
      "metadata": {
        "id": "KqF8prZZTc1x",
        "outputId": "5223e209-4162-438f-e837-1ceabc8fd47d"
      },
      "outputs": [
        {
          "ename": "NameError",
          "evalue": "name 'st' is not defined",
          "output_type": "error",
          "traceback": [
            "\u001b[0;31m---------------------------------------------------------------------------\u001b[0m",
            "\u001b[0;31mNameError\u001b[0m                                 Traceback (most recent call last)",
            "\u001b[0;32m/tmp/ipykernel_26/96090587.py\u001b[0m in \u001b[0;36m<module>\u001b[0;34m\u001b[0m\n\u001b[1;32m      6\u001b[0m \u001b[0malpha\u001b[0m \u001b[0;34m=\u001b[0m \u001b[0;36m0.05\u001b[0m\u001b[0;34m\u001b[0m\u001b[0;34m\u001b[0m\u001b[0m\n\u001b[1;32m      7\u001b[0m \u001b[0;34m\u001b[0m\u001b[0m\n\u001b[0;32m----> 8\u001b[0;31m \u001b[0mresults\u001b[0m \u001b[0;34m=\u001b[0m \u001b[0mst\u001b[0m\u001b[0;34m.\u001b[0m\u001b[0mttest_ind\u001b[0m\u001b[0;34m(\u001b[0m\u001b[0mxbox\u001b[0m\u001b[0;34m,\u001b[0m \u001b[0mpc\u001b[0m\u001b[0;34m,\u001b[0m \u001b[0mequal_var\u001b[0m \u001b[0;34m=\u001b[0m \u001b[0;32mTrue\u001b[0m \u001b[0;34m)\u001b[0m\u001b[0;34m\u001b[0m\u001b[0;34m\u001b[0m\u001b[0m\n\u001b[0m\u001b[1;32m      9\u001b[0m \u001b[0mprint\u001b[0m\u001b[0;34m(\u001b[0m\u001b[0;34m'p-value:'\u001b[0m\u001b[0;34m,\u001b[0m \u001b[0mresults\u001b[0m\u001b[0;34m.\u001b[0m\u001b[0mpvalue\u001b[0m\u001b[0;34m)\u001b[0m\u001b[0;34m\u001b[0m\u001b[0;34m\u001b[0m\u001b[0m\n\u001b[1;32m     10\u001b[0m \u001b[0;34m\u001b[0m\u001b[0m\n",
            "\u001b[0;31mNameError\u001b[0m: name 'st' is not defined"
          ]
        }
      ],
      "source": [
        "# Prueba de hipótesis\n",
        "\n",
        "# ho = Las calificaciones promedio de los usuarios para las plataformas Xbox One y PC son las mismas\n",
        "# h1 = Las calificaciones promedio de los usuarios para las plataformas Xbox One y PC no son las mismas\n",
        "\n",
        "alpha = 0.05\n",
        "\n",
        "results = st.ttest_ind(xbox, pc, equal_var = True )\n",
        "print('p-value:', results.pvalue)\n",
        "\n",
        "if (results.pvalue < alpha).any():\n",
        "    print(\"Rechazamos la hipótesis nula\")\n",
        "else:\n",
        "    print(\"No rechazamos la hipótesis nula\")"
      ]
    },
    {
      "cell_type": "markdown",
      "metadata": {
        "id": "DJzBMgGUTc1x"
      },
      "source": [
        "Según el análisis de la prueba de hipótesis, se rechaza la hipótesis nula y se llega a concluir que las calificaciones promedio de los usuarios para las plataformas xbox one y pc no son iguales.\n",
        "Se uso este tipo de prueba de hipótesis porque se necesitó comparar las medias de dos poblaciones estadísticas diferentes."
      ]
    },
    {
      "cell_type": "code",
      "execution_count": null,
      "metadata": {
        "id": "N7FQpp5uTc1x"
      },
      "outputs": [],
      "source": [
        "game_act_sp = game[['genre','user_score']]\n",
        "action = game_act_sp.query('genre == \"Action\"').dropna()\n",
        "action = action.drop(['genre'], axis=1)\n",
        "sports = game_act_sp.query('genre == \"Sports\"').dropna()\n",
        "sports = sports.drop(['genre'], axis=1)"
      ]
    },
    {
      "cell_type": "code",
      "execution_count": null,
      "metadata": {
        "id": "A2VW5YjsTc1x",
        "outputId": "797a461a-7c58-4854-fd49-2135fbe94e1f"
      },
      "outputs": [
        {
          "data": {
            "text/plain": [
              "0.00011912052444924788"
            ]
          },
          "execution_count": 78,
          "metadata": {},
          "output_type": "execute_result"
        }
      ],
      "source": [
        "# Prueba de Levene centrada en la mediana\n",
        "\n",
        "action1 = action['user_score']\n",
        "sports1 = sports['user_score']\n",
        "\n",
        "stat, p = levene(action1, sports1, center='median')\n",
        "p"
      ]
    },
    {
      "cell_type": "markdown",
      "metadata": {
        "id": "HTD2HSghTc1y"
      },
      "source": [
        "En este caso, se usa equal_var = False"
      ]
    },
    {
      "cell_type": "code",
      "execution_count": null,
      "metadata": {
        "id": "s5azT2JtTc1y",
        "outputId": "98c20a36-6f36-41a4-feb2-4e2a7cf80d78"
      },
      "outputs": [
        {
          "name": "stdout",
          "output_type": "stream",
          "text": [
            "p-value: [0.09344255]\n",
            "No rechazamos la hipótesis nula\n"
          ]
        }
      ],
      "source": [
        "# Prueba de hipótesis\n",
        "\n",
        "# ho = Las calificaciones promedio de los usuarios para los géneros de Acción y Deportes son iguales.\n",
        "# h1 = Las calificaciones promedio de los usuarios para los géneros de Acción y Deportes no son iguales (son diferentes).\n",
        "\n",
        "\n",
        "alpha = 0.05\n",
        "\n",
        "results = st.ttest_ind(action, sports, equal_var = False )\n",
        "print('p-value:', results.pvalue)\n",
        "\n",
        "if results.pvalue < alpha:\n",
        "    print(\"Rechazamos la hipótesis nula\")\n",
        "else:\n",
        "    print(\"No rechazamos la hipótesis nula\")"
      ]
    },
    {
      "cell_type": "markdown",
      "metadata": {
        "id": "E6NmHAvATc1y"
      },
      "source": [
        "Según el análisis de la prueba de hipótesis, se acepta la hipótesis nula y se llega a concluir que las calificaciones promedio de los usuarios para los géneros de acción y deporte son iguales.\n",
        "Se uso este tipo de prueba de hipótesis porque se necesitó comparar las medias de dos poblaciones estadísticas diferentes."
      ]
    },
    {
      "cell_type": "markdown",
      "metadata": {
        "id": "UnMM7dQiTc1y"
      },
      "source": [
        "## Conclusión final"
      ]
    },
    {
      "cell_type": "markdown",
      "metadata": {
        "id": "XoAe498aTc1y"
      },
      "source": [
        "Para el proyecto integrador se realizó la carga del dataset y las librerias. Se revisó si habia columnas con datos ausentes o que se tenian que cambiar y lo primero que se hizo fue cambiar el nombre de las columnas a minúsculas, se imputaron los datos de las filas faltantes con el nombre, y año de lanzamiento dependiendo de cuales eran las necesidades de cada columna hasta obtener un dataframe sin valores nulos. Las columnas user_score y critic_score no se realizaron cambios debido a que son sensibles a cualquier variación que hagamos con la imputación. Se revisaron las ventas totales para las 3 regiones NA, UE y JP, a través de los años, en donde se observó que hubo un ascenso paulatino en ventas hasta alcanzar su máximo pico en los años 2008 y 2009. También se realizó el mismo análisis para cada plataforma, viendo que PS3 lideró las ventas totales. Las 3 plaformas con mas ventas desde el año 2011 hasta el 2016 fueron: PS3, PS4 y X360, y el tiempo de duración promedio de cada plataforma fue de 10años. Se realizó un análisis para la plataforma X360, en donde la venta de sus juegos se comparó con otras consolas llegando a observar que sus juegos tienen mas éxito en otras plataformas, pero de la misma marca Sony. Los géneros mas rentables para las 3 regiones fueron: Action, Sports, Shooter, Role_playing y las plataformas mas exitosas para las 3 regiones fueron: X360, PS3, PS4 y 3DS, a las cuales se tiene que aplicar las estrategias de marketing para el año 2017."
      ]
    }
  ],
  "metadata": {
    "kernelspec": {
      "display_name": "Python 3 (ipykernel)",
      "language": "python",
      "name": "python3"
    },
    "language_info": {
      "codemirror_mode": {
        "name": "ipython",
        "version": 3
      },
      "file_extension": ".py",
      "mimetype": "text/x-python",
      "name": "python",
      "nbconvert_exporter": "python",
      "pygments_lexer": "ipython3",
      "version": "3.9.5"
    },
    "toc": {
      "base_numbering": 1,
      "nav_menu": {},
      "number_sections": true,
      "sideBar": true,
      "skip_h1_title": true,
      "title_cell": "Table of Contents",
      "title_sidebar": "Contents",
      "toc_cell": false,
      "toc_position": {},
      "toc_section_display": true,
      "toc_window_display": false
    },
    "colab": {
      "provenance": []
    }
  },
  "nbformat": 4,
  "nbformat_minor": 0
}